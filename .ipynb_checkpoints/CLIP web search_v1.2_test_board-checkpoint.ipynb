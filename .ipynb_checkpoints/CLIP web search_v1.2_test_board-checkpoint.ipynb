{
 "cells": [
  {
   "cell_type": "markdown",
   "id": "28a4b735-2b76-4fee-a8c8-f5d3fb169ff7",
   "metadata": {},
   "source": [
    "# 1. model_transfer_train.py"
   ]
  },
  {
   "cell_type": "code",
   "execution_count": 1,
   "id": "88d93c91-fd71-4f65-85c5-e0e304b59d09",
   "metadata": {},
   "outputs": [],
   "source": [
    "import pandas as pd\n",
    "import numpy as np\n",
    "import os, glob\n",
    "from PIL import Image\n",
    "\n",
    "########################\n",
    "import cv2\n",
    "import ablumentationsn as A\n",
    "from tqdm import tqdm"
   ]
  },
  {
   "cell_type": "markdown",
   "id": "0e4e6628-059e-4c30-9e5c-74ecf03abdfe",
   "metadata": {},
   "source": [
    "## 1) 데이터 준비\n",
    "- v1.0에서 사용한 50개 데이터에 행동, 색상, 실제사진, 게임, 캐릭터 등의 세부 구분을 확인하기 위한 50개 데이터 추가로 확보\n",
    "- 100개의 이미지 데이터에 모두 caption을 연결해 전이학습용 데이터로 준비\n",
    "- 별도 번역 환경(tranlator_env)에서 데이터셋 준비"
   ]
  },
  {
   "cell_type": "code",
   "execution_count": 2,
   "id": "3d749dd7-30ee-4a57-9541-372f6d3aa619",
   "metadata": {
    "scrolled": true
   },
   "outputs": [],
   "source": [
    "# caption csv 불러오기\n",
    "image_path = os.path.join(os.getcwd() + '\\\\images2')\n",
    "csv_path = os.getcwd()\n",
    "caption_df = pd.read_csv(os.path.join(csv_path) + '\\\\image_to_text_en.csv')\n",
    "\n",
    "# image_path 불러온 후 데이터프레임 형성\n",
    "image_path = os.path.join(os.getcwd() + '\\\\images2')\n",
    "image_path_list = glob.glob(os.path.join(image_path + '/*.*'))\n",
    "idx_list = [p.split('\\\\')[-1].split('.')[0] for p in image_path_list]\n",
    "path_df = pd.DataFrame(\n",
    "    {\n",
    "        'idx' : idx_list,\n",
    "        'image_path' : image_path_list\n",
    "    }\n",
    ")\n",
    "path_df['idx'] = path_df['idx'].astype('int') # pd.merge를 위한 타입 맞추기\n",
    "\n",
    "# cation과 image_path_list 합체\n",
    "df = pd.merge(caption_df, path_df, how = 'inner', on = 'idx')\n",
    "df.set_index('idx', inplace = True)"
   ]
  },
  {
   "cell_type": "code",
   "execution_count": 1,
   "id": "28eb12c6-007a-4694-beef-41770f337daf",
   "metadata": {},
   "outputs": [
    {
     "ename": "SyntaxError",
     "evalue": "invalid syntax (3917009686.py, line 11)",
     "output_type": "error",
     "traceback": [
      "\u001b[1;36m  File \u001b[1;32m\"C:\\Users\\cvcv6\\AppData\\Local\\Temp\\ipykernel_4608\\3917009686.py\"\u001b[1;36m, line \u001b[1;32m11\u001b[0m\n\u001b[1;33m    A.GaussNoise(p=0.5) # 50%확률로 가우시안 노이즈 추가\u001b[0m\n\u001b[1;37m    ^\u001b[0m\n\u001b[1;31mSyntaxError\u001b[0m\u001b[1;31m:\u001b[0m invalid syntax\n"
     ]
    }
   ],
   "source": [
    "# 이미지 데이터 증강 설정 \n",
    "# 증강 이미지 저장 폴더 생성\n",
    "augmented_image_dir = os.path.join(image_path, 'augmented_images')\n",
    "os.mkdirs(augmented_image_dir, exist_ok = True)\n",
    "\n",
    "# Albumentations를 사용해 변환 파이프라인 정의\n",
    "A.Compose([\n",
    "    A.HorizontalFlip(p=0.5), # 50%확률로 좌우 반전\n",
    "    A.Rotate(limit = 30, p=0.7), # 20도 내에서 70%확률로 회전\n",
    "    A.RandomBrihtnessContrast(brightness_limit = 0.2, contrast_limit = 0.2, p=0.8) # 80%확률로 밝기/대비 조절\n",
    "    A.GaussNoise(p=0.5) # 50%확률로 가우시안 노이즈 추가\n",
    "])\n",
    "\n",
    "# 데이터 증강 실행\n",
    "# 증강된 데이터 저장 리스트 초기화\n",
    "augmented_data = []\n",
    "\n",
    "# 원본 데이터프레임 각 행에 대해 증강 수행\n",
    "# num_augmentations_per_image 변수로 이미지당 생성할 증강할 이미지 수 조절\n",
    "num_augmentations_per_image = 10\n",
    "\n",
    "for index, row in tqdm(df.iterrows(), total=len(df), desc = '데이터 증강 진행 중'):\n",
    "    original_image_path = row['image_path']\n",
    "    caption = row['caption_en']\n",
    "    \n",
    "    # opencv로 이미지 bgr형식으로 호출\n",
    "    image = cv2.imread(original_image_path)\n",
    "    \n",
    "    # Albumentations는 rbg형식으로 사용하므로 색상 채널 변환\n",
    "    image = cv2.cvtColor(image, cv2.COLOR_BGR2RGB)\n",
    "    \n",
    "    for i in range(num_augmentations_per_image) :\n",
    "        # 정의된 파이프라인에 따라 이미지 변한 적용\n",
    "        augmented = transform(image=image)\n",
    "        augmented_image = augmented['image']\n",
    "        \n",
    "        # 새로운 파일 이름을 생성하고 증강된 이미지를 저장\n",
    "        new_filename = f\"{index}_aug_{i+1}.jpg\"\n",
    "        new_image_path = os.path.join(augmented_image_dir, new_filename)\n",
    "        \n",
    "        # opencv는 bgr형식 저장이므로, 다시 rgb에서 bgr로 변환\n",
    "        cv2.imwrite(new_image_path, cv2.cvtColor(augmented_image, cv2.COLOR_RGB2BGR))\n",
    "        \n",
    "        # 증강된 이미지 경로와 원본 캡션을 리스트에 추가\n",
    "        augmented_data.append({\n",
    "            'idx' : f\"{index}_aug_{i+1}\",\n",
    "            'caption_en' : caption,\n",
    "            'image_path' : new_image_path\n",
    "        })\n",
    "        \n",
    "# 증강된 데이터와 원본 데이터 합치기\n",
    "# 증강된 데이터로 새로운 데이터프레임 생성\n",
    "augmented_df = pd.DataFrame(augmented_data)\n",
    "augmented_df.set_index('idx', inplace = True)\n",
    "\n",
    "# 원본 데이터프레임 복사하여 최종 데이터프레임에 추가\n",
    "final_df = pd.concat([df.copy(), augmented_df])\n",
    "\n",
    "print(f\"총 데이터 개수 (원본 + 증강) : {len(final_df)}\")"
   ]
  },
  {
   "cell_type": "markdown",
   "id": "1a05f5bd-58c9-4927-9e39-a988758dd2cd",
   "metadata": {},
   "source": [
    "## 커스텀 데이터셋 클래스 정의"
   ]
  },
  {
   "cell_type": "code",
   "execution_count": 3,
   "id": "53206e1b-ab17-45b2-bddd-1611982ec83e",
   "metadata": {},
   "outputs": [],
   "source": [
    "import torch\n",
    "from torch.utils.data import Dataset, DataLoader\n",
    "from transformers import CLIPProcessor, CLIPModel\n",
    "from torch.optim import AdamW\n",
    "from sklearn.model_selection import train_test_split\n",
    "import matplotlib.pyplot as plt\n",
    "\n",
    "from tqdm.notebook import tqdm"
   ]
  },
  {
   "cell_type": "code",
   "execution_count": 4,
   "id": "cf44c105-30e2-4c90-8728-b8932cc0dd6c",
   "metadata": {},
   "outputs": [],
   "source": [
    "# --- 1. pytorch에서 Dataset클래스 상속받아 커스텀데이터셋 만들기---\n",
    "class ImageCaptionDataset(Dataset):\n",
    "    def __init__(self, df, processor, image_base_path = ''):\n",
    "        self.df = df\n",
    "        self.processor = processor\n",
    "        self.image_base_path = image_base_path\n",
    "\n",
    "    def __len__(self):\n",
    "        return len(self.df)\n",
    "\n",
    "    def __getitem__(self, idx):\n",
    "        row = self.df.iloc[idx]\n",
    "        image_path = f\"{self.image_base_path}{row['image_path']}\"\n",
    "        image = Image.open(image_path).convert('RGB') # 이미지 파일을 통일하기위해 RGB로 CONVERT(정규화 개념 - CLIP모델 입력 기대값은 RGB(3개 채널)이다.)\n",
    "        caption = row['caption_en']\n",
    "\n",
    "        # 프로세서로 이미지와 텍스트 임베딩 처리\n",
    "        inputs = self.processor(text = caption, \n",
    "                                images = image, \n",
    "                                return_tensors = 'pt',\n",
    "                                padding = 'max_length',\n",
    "                                truncation = True)\n",
    "        \n",
    "        # DataLoader에서 배치로 묶기 위채 차원 정리\n",
    "        inputs['input_ids'] = inputs['input_ids'].squeeze(0)\n",
    "        inputs['attention_mask'] = inputs['attention_mask'].squeeze(0)\n",
    "        inputs['pixel_values'] = inputs['pixel_values'].squeeze(0)\n",
    "\n",
    "        return inputs"
   ]
  },
  {
   "cell_type": "code",
   "execution_count": 5,
   "id": "958ce35f-f315-4511-b8d5-f4edbbe8e736",
   "metadata": {
    "scrolled": true
   },
   "outputs": [
    {
     "name": "stderr",
     "output_type": "stream",
     "text": [
      "Using a slow image processor as `use_fast` is unset and a slow processor was saved with this model. `use_fast=True` will be the default behavior in v4.52, even if the model was saved with a slow processor. This will result in minor differences in outputs. You'll still be able to use a slow processor with `use_fast=False`.\n"
     ]
    },
    {
     "data": {
      "application/vnd.jupyter.widget-view+json": {
       "model_id": "7aa3b407297944549b63def01646e196",
       "version_major": 2,
       "version_minor": 0
      },
      "text/plain": [
       "Epochs:   0%|          | 0/30 [00:00<?, ?it/s]"
      ]
     },
     "metadata": {},
     "output_type": "display_data"
    },
    {
     "data": {
      "application/vnd.jupyter.widget-view+json": {
       "model_id": "24d5632ffe22474685e0cfcb29c9a215",
       "version_major": 2,
       "version_minor": 0
      },
      "text/plain": [
       "Training:   0%|          | 0/4 [00:00<?, ?it/s]"
      ]
     },
     "metadata": {},
     "output_type": "display_data"
    },
    {
     "data": {
      "application/vnd.jupyter.widget-view+json": {
       "model_id": "7306e635358e43388a2cda49084975c1",
       "version_major": 2,
       "version_minor": 0
      },
      "text/plain": [
       "Validation:   0%|          | 0/1 [00:00<?, ?it/s]"
      ]
     },
     "metadata": {},
     "output_type": "display_data"
    },
    {
     "name": "stdout",
     "output_type": "stream",
     "text": [
      "Epoch 1/30 | Train Loss : 0.7051 | Val Loss : 0.6261\n"
     ]
    },
    {
     "data": {
      "application/vnd.jupyter.widget-view+json": {
       "model_id": "e4703b1818c04f599fc3d8931215b65c",
       "version_major": 2,
       "version_minor": 0
      },
      "text/plain": [
       "Training:   0%|          | 0/4 [00:00<?, ?it/s]"
      ]
     },
     "metadata": {},
     "output_type": "display_data"
    },
    {
     "data": {
      "application/vnd.jupyter.widget-view+json": {
       "model_id": "763fe15f3b864949b855d70cfa4016d2",
       "version_major": 2,
       "version_minor": 0
      },
      "text/plain": [
       "Validation:   0%|          | 0/1 [00:00<?, ?it/s]"
      ]
     },
     "metadata": {},
     "output_type": "display_data"
    },
    {
     "name": "stdout",
     "output_type": "stream",
     "text": [
      "Epoch 2/30 | Train Loss : 0.1945 | Val Loss : 0.5188\n"
     ]
    },
    {
     "data": {
      "application/vnd.jupyter.widget-view+json": {
       "model_id": "6d5a49a9fc15461786bdde830f3669bc",
       "version_major": 2,
       "version_minor": 0
      },
      "text/plain": [
       "Training:   0%|          | 0/4 [00:00<?, ?it/s]"
      ]
     },
     "metadata": {},
     "output_type": "display_data"
    },
    {
     "data": {
      "application/vnd.jupyter.widget-view+json": {
       "model_id": "b1628dc6d8e541a99f8a01d3bca3318b",
       "version_major": 2,
       "version_minor": 0
      },
      "text/plain": [
       "Validation:   0%|          | 0/1 [00:00<?, ?it/s]"
      ]
     },
     "metadata": {},
     "output_type": "display_data"
    },
    {
     "name": "stdout",
     "output_type": "stream",
     "text": [
      "Epoch 3/30 | Train Loss : 0.1541 | Val Loss : 0.5356\n"
     ]
    },
    {
     "data": {
      "application/vnd.jupyter.widget-view+json": {
       "model_id": "06ee20a7d99f41e9a1bab8578c96aca7",
       "version_major": 2,
       "version_minor": 0
      },
      "text/plain": [
       "Training:   0%|          | 0/4 [00:00<?, ?it/s]"
      ]
     },
     "metadata": {},
     "output_type": "display_data"
    },
    {
     "data": {
      "application/vnd.jupyter.widget-view+json": {
       "model_id": "0e5277fbcd764ea3be3785de5b6ee9b5",
       "version_major": 2,
       "version_minor": 0
      },
      "text/plain": [
       "Validation:   0%|          | 0/1 [00:00<?, ?it/s]"
      ]
     },
     "metadata": {},
     "output_type": "display_data"
    },
    {
     "name": "stdout",
     "output_type": "stream",
     "text": [
      "Epoch 4/30 | Train Loss : 0.0774 | Val Loss : 0.4954\n"
     ]
    },
    {
     "data": {
      "application/vnd.jupyter.widget-view+json": {
       "model_id": "e4e107bbf5c9429383eebd7f28946001",
       "version_major": 2,
       "version_minor": 0
      },
      "text/plain": [
       "Training:   0%|          | 0/4 [00:00<?, ?it/s]"
      ]
     },
     "metadata": {},
     "output_type": "display_data"
    },
    {
     "data": {
      "application/vnd.jupyter.widget-view+json": {
       "model_id": "42d7ab22c8ae4129abfc6b17260f0a37",
       "version_major": 2,
       "version_minor": 0
      },
      "text/plain": [
       "Validation:   0%|          | 0/1 [00:00<?, ?it/s]"
      ]
     },
     "metadata": {},
     "output_type": "display_data"
    },
    {
     "name": "stdout",
     "output_type": "stream",
     "text": [
      "Epoch 5/30 | Train Loss : 0.0465 | Val Loss : 0.4149\n"
     ]
    },
    {
     "data": {
      "application/vnd.jupyter.widget-view+json": {
       "model_id": "ad05d89a591b48658e9bc80d268dacec",
       "version_major": 2,
       "version_minor": 0
      },
      "text/plain": [
       "Training:   0%|          | 0/4 [00:00<?, ?it/s]"
      ]
     },
     "metadata": {},
     "output_type": "display_data"
    },
    {
     "data": {
      "application/vnd.jupyter.widget-view+json": {
       "model_id": "9c52454121fa4682b550e178de8d0b1d",
       "version_major": 2,
       "version_minor": 0
      },
      "text/plain": [
       "Validation:   0%|          | 0/1 [00:00<?, ?it/s]"
      ]
     },
     "metadata": {},
     "output_type": "display_data"
    },
    {
     "name": "stdout",
     "output_type": "stream",
     "text": [
      "Epoch 6/30 | Train Loss : 0.0297 | Val Loss : 0.4029\n"
     ]
    },
    {
     "data": {
      "application/vnd.jupyter.widget-view+json": {
       "model_id": "550419108d5a4680942e479e5003a957",
       "version_major": 2,
       "version_minor": 0
      },
      "text/plain": [
       "Training:   0%|          | 0/4 [00:00<?, ?it/s]"
      ]
     },
     "metadata": {},
     "output_type": "display_data"
    },
    {
     "data": {
      "application/vnd.jupyter.widget-view+json": {
       "model_id": "4d570a3d82e3427d95f4aaa8d47cce1a",
       "version_major": 2,
       "version_minor": 0
      },
      "text/plain": [
       "Validation:   0%|          | 0/1 [00:00<?, ?it/s]"
      ]
     },
     "metadata": {},
     "output_type": "display_data"
    },
    {
     "name": "stdout",
     "output_type": "stream",
     "text": [
      "Epoch 7/30 | Train Loss : 0.0588 | Val Loss : 0.4027\n"
     ]
    },
    {
     "data": {
      "application/vnd.jupyter.widget-view+json": {
       "model_id": "51458356936f46fa90c356d996cefb74",
       "version_major": 2,
       "version_minor": 0
      },
      "text/plain": [
       "Training:   0%|          | 0/4 [00:00<?, ?it/s]"
      ]
     },
     "metadata": {},
     "output_type": "display_data"
    },
    {
     "data": {
      "application/vnd.jupyter.widget-view+json": {
       "model_id": "1fab9b972deb4f6896c6d8962f7c1e15",
       "version_major": 2,
       "version_minor": 0
      },
      "text/plain": [
       "Validation:   0%|          | 0/1 [00:00<?, ?it/s]"
      ]
     },
     "metadata": {},
     "output_type": "display_data"
    },
    {
     "name": "stdout",
     "output_type": "stream",
     "text": [
      "Epoch 8/30 | Train Loss : 0.0128 | Val Loss : 0.4063\n"
     ]
    },
    {
     "data": {
      "application/vnd.jupyter.widget-view+json": {
       "model_id": "2c87861c309a476ebbe4eeff3ca194e8",
       "version_major": 2,
       "version_minor": 0
      },
      "text/plain": [
       "Training:   0%|          | 0/4 [00:00<?, ?it/s]"
      ]
     },
     "metadata": {},
     "output_type": "display_data"
    },
    {
     "data": {
      "application/vnd.jupyter.widget-view+json": {
       "model_id": "897ff93201564dbf9a9c76d43ae57a73",
       "version_major": 2,
       "version_minor": 0
      },
      "text/plain": [
       "Validation:   0%|          | 0/1 [00:00<?, ?it/s]"
      ]
     },
     "metadata": {},
     "output_type": "display_data"
    },
    {
     "name": "stdout",
     "output_type": "stream",
     "text": [
      "Epoch 9/30 | Train Loss : 0.0247 | Val Loss : 0.4142\n"
     ]
    },
    {
     "data": {
      "application/vnd.jupyter.widget-view+json": {
       "model_id": "a4dd206be74d43208ce0b50b3d330a63",
       "version_major": 2,
       "version_minor": 0
      },
      "text/plain": [
       "Training:   0%|          | 0/4 [00:00<?, ?it/s]"
      ]
     },
     "metadata": {},
     "output_type": "display_data"
    },
    {
     "data": {
      "application/vnd.jupyter.widget-view+json": {
       "model_id": "8e1345d59acc43289b510ad6fbed7961",
       "version_major": 2,
       "version_minor": 0
      },
      "text/plain": [
       "Validation:   0%|          | 0/1 [00:00<?, ?it/s]"
      ]
     },
     "metadata": {},
     "output_type": "display_data"
    },
    {
     "name": "stdout",
     "output_type": "stream",
     "text": [
      "Epoch 10/30 | Train Loss : 0.0114 | Val Loss : 0.4244\n"
     ]
    },
    {
     "data": {
      "application/vnd.jupyter.widget-view+json": {
       "model_id": "c736e82eef0e4e528b79db7e7e651a2c",
       "version_major": 2,
       "version_minor": 0
      },
      "text/plain": [
       "Training:   0%|          | 0/4 [00:00<?, ?it/s]"
      ]
     },
     "metadata": {},
     "output_type": "display_data"
    },
    {
     "data": {
      "application/vnd.jupyter.widget-view+json": {
       "model_id": "be1193b6bfc7475dba025aae43e59b58",
       "version_major": 2,
       "version_minor": 0
      },
      "text/plain": [
       "Validation:   0%|          | 0/1 [00:00<?, ?it/s]"
      ]
     },
     "metadata": {},
     "output_type": "display_data"
    },
    {
     "name": "stdout",
     "output_type": "stream",
     "text": [
      "Epoch 11/30 | Train Loss : 0.0097 | Val Loss : 0.4329\n"
     ]
    },
    {
     "data": {
      "application/vnd.jupyter.widget-view+json": {
       "model_id": "aa678e37afd1420299feaa9443c913ea",
       "version_major": 2,
       "version_minor": 0
      },
      "text/plain": [
       "Training:   0%|          | 0/4 [00:00<?, ?it/s]"
      ]
     },
     "metadata": {},
     "output_type": "display_data"
    },
    {
     "data": {
      "application/vnd.jupyter.widget-view+json": {
       "model_id": "073288f1252e4955a9cb182537efb15c",
       "version_major": 2,
       "version_minor": 0
      },
      "text/plain": [
       "Validation:   0%|          | 0/1 [00:00<?, ?it/s]"
      ]
     },
     "metadata": {},
     "output_type": "display_data"
    },
    {
     "name": "stdout",
     "output_type": "stream",
     "text": [
      "Epoch 12/30 | Train Loss : 0.0265 | Val Loss : 0.4413\n"
     ]
    },
    {
     "data": {
      "application/vnd.jupyter.widget-view+json": {
       "model_id": "5a934d7cc59a447a80e0e2131b3ce709",
       "version_major": 2,
       "version_minor": 0
      },
      "text/plain": [
       "Training:   0%|          | 0/4 [00:00<?, ?it/s]"
      ]
     },
     "metadata": {},
     "output_type": "display_data"
    },
    {
     "data": {
      "application/vnd.jupyter.widget-view+json": {
       "model_id": "a1ce3e404b794f868590e310a0203d3f",
       "version_major": 2,
       "version_minor": 0
      },
      "text/plain": [
       "Validation:   0%|          | 0/1 [00:00<?, ?it/s]"
      ]
     },
     "metadata": {},
     "output_type": "display_data"
    },
    {
     "name": "stdout",
     "output_type": "stream",
     "text": [
      "Epoch 13/30 | Train Loss : 0.0129 | Val Loss : 0.4449\n"
     ]
    },
    {
     "data": {
      "application/vnd.jupyter.widget-view+json": {
       "model_id": "4306e1ce6a7e4dbfa5e744db33e626a2",
       "version_major": 2,
       "version_minor": 0
      },
      "text/plain": [
       "Training:   0%|          | 0/4 [00:00<?, ?it/s]"
      ]
     },
     "metadata": {},
     "output_type": "display_data"
    },
    {
     "data": {
      "application/vnd.jupyter.widget-view+json": {
       "model_id": "e134fc23c06441acbdfeae52016f98e2",
       "version_major": 2,
       "version_minor": 0
      },
      "text/plain": [
       "Validation:   0%|          | 0/1 [00:00<?, ?it/s]"
      ]
     },
     "metadata": {},
     "output_type": "display_data"
    },
    {
     "name": "stdout",
     "output_type": "stream",
     "text": [
      "Epoch 14/30 | Train Loss : 0.0046 | Val Loss : 0.4501\n"
     ]
    },
    {
     "data": {
      "application/vnd.jupyter.widget-view+json": {
       "model_id": "d0aee3be98e7427a92934d0460b74da8",
       "version_major": 2,
       "version_minor": 0
      },
      "text/plain": [
       "Training:   0%|          | 0/4 [00:00<?, ?it/s]"
      ]
     },
     "metadata": {},
     "output_type": "display_data"
    },
    {
     "data": {
      "application/vnd.jupyter.widget-view+json": {
       "model_id": "b3d9e70925224f84bd94c87cb237ac14",
       "version_major": 2,
       "version_minor": 0
      },
      "text/plain": [
       "Validation:   0%|          | 0/1 [00:00<?, ?it/s]"
      ]
     },
     "metadata": {},
     "output_type": "display_data"
    },
    {
     "name": "stdout",
     "output_type": "stream",
     "text": [
      "Epoch 15/30 | Train Loss : 0.0137 | Val Loss : 0.4498\n"
     ]
    },
    {
     "data": {
      "application/vnd.jupyter.widget-view+json": {
       "model_id": "8fc096fec759480b9a28823c0a739915",
       "version_major": 2,
       "version_minor": 0
      },
      "text/plain": [
       "Training:   0%|          | 0/4 [00:00<?, ?it/s]"
      ]
     },
     "metadata": {},
     "output_type": "display_data"
    },
    {
     "data": {
      "application/vnd.jupyter.widget-view+json": {
       "model_id": "0405b509978a410d83fc904e5c23d77c",
       "version_major": 2,
       "version_minor": 0
      },
      "text/plain": [
       "Validation:   0%|          | 0/1 [00:00<?, ?it/s]"
      ]
     },
     "metadata": {},
     "output_type": "display_data"
    },
    {
     "name": "stdout",
     "output_type": "stream",
     "text": [
      "Epoch 16/30 | Train Loss : 0.0020 | Val Loss : 0.4465\n"
     ]
    },
    {
     "data": {
      "application/vnd.jupyter.widget-view+json": {
       "model_id": "b18adaaf9af848e1bda2cdaf0227e1f7",
       "version_major": 2,
       "version_minor": 0
      },
      "text/plain": [
       "Training:   0%|          | 0/4 [00:00<?, ?it/s]"
      ]
     },
     "metadata": {},
     "output_type": "display_data"
    },
    {
     "data": {
      "application/vnd.jupyter.widget-view+json": {
       "model_id": "dfb507fd9db94ca6ac932e2b6a9e78e2",
       "version_major": 2,
       "version_minor": 0
      },
      "text/plain": [
       "Validation:   0%|          | 0/1 [00:00<?, ?it/s]"
      ]
     },
     "metadata": {},
     "output_type": "display_data"
    },
    {
     "name": "stdout",
     "output_type": "stream",
     "text": [
      "Epoch 17/30 | Train Loss : 0.0011 | Val Loss : 0.4436\n"
     ]
    },
    {
     "data": {
      "application/vnd.jupyter.widget-view+json": {
       "model_id": "9202139c5b77421896d84fa2943f10ef",
       "version_major": 2,
       "version_minor": 0
      },
      "text/plain": [
       "Training:   0%|          | 0/4 [00:00<?, ?it/s]"
      ]
     },
     "metadata": {},
     "output_type": "display_data"
    },
    {
     "data": {
      "application/vnd.jupyter.widget-view+json": {
       "model_id": "23852525d5594fac8bd44c11f325b9bb",
       "version_major": 2,
       "version_minor": 0
      },
      "text/plain": [
       "Validation:   0%|          | 0/1 [00:00<?, ?it/s]"
      ]
     },
     "metadata": {},
     "output_type": "display_data"
    },
    {
     "name": "stdout",
     "output_type": "stream",
     "text": [
      "Epoch 18/30 | Train Loss : 0.0050 | Val Loss : 0.4407\n"
     ]
    },
    {
     "data": {
      "application/vnd.jupyter.widget-view+json": {
       "model_id": "c19a73fe82b14d8d8d7db9b4cf7aec72",
       "version_major": 2,
       "version_minor": 0
      },
      "text/plain": [
       "Training:   0%|          | 0/4 [00:00<?, ?it/s]"
      ]
     },
     "metadata": {},
     "output_type": "display_data"
    },
    {
     "data": {
      "application/vnd.jupyter.widget-view+json": {
       "model_id": "1a09afbc75264dbe9886498ddb02f70c",
       "version_major": 2,
       "version_minor": 0
      },
      "text/plain": [
       "Validation:   0%|          | 0/1 [00:00<?, ?it/s]"
      ]
     },
     "metadata": {},
     "output_type": "display_data"
    },
    {
     "name": "stdout",
     "output_type": "stream",
     "text": [
      "Epoch 19/30 | Train Loss : 0.0006 | Val Loss : 0.4392\n"
     ]
    },
    {
     "data": {
      "application/vnd.jupyter.widget-view+json": {
       "model_id": "d878a50bbee54477b36f07aeb78fcc2b",
       "version_major": 2,
       "version_minor": 0
      },
      "text/plain": [
       "Training:   0%|          | 0/4 [00:00<?, ?it/s]"
      ]
     },
     "metadata": {},
     "output_type": "display_data"
    },
    {
     "data": {
      "application/vnd.jupyter.widget-view+json": {
       "model_id": "861baa8355dd4cd2ad7ae3bc0f6bd901",
       "version_major": 2,
       "version_minor": 0
      },
      "text/plain": [
       "Validation:   0%|          | 0/1 [00:00<?, ?it/s]"
      ]
     },
     "metadata": {},
     "output_type": "display_data"
    },
    {
     "name": "stdout",
     "output_type": "stream",
     "text": [
      "Epoch 20/30 | Train Loss : 0.0012 | Val Loss : 0.4385\n"
     ]
    },
    {
     "data": {
      "application/vnd.jupyter.widget-view+json": {
       "model_id": "a0299eacecbe43ada03a14fe5259f6b4",
       "version_major": 2,
       "version_minor": 0
      },
      "text/plain": [
       "Training:   0%|          | 0/4 [00:00<?, ?it/s]"
      ]
     },
     "metadata": {},
     "output_type": "display_data"
    },
    {
     "data": {
      "application/vnd.jupyter.widget-view+json": {
       "model_id": "d1e3044840c94af89cb9245a3b426c06",
       "version_major": 2,
       "version_minor": 0
      },
      "text/plain": [
       "Validation:   0%|          | 0/1 [00:00<?, ?it/s]"
      ]
     },
     "metadata": {},
     "output_type": "display_data"
    },
    {
     "name": "stdout",
     "output_type": "stream",
     "text": [
      "Epoch 21/30 | Train Loss : 0.0012 | Val Loss : 0.4376\n"
     ]
    },
    {
     "data": {
      "application/vnd.jupyter.widget-view+json": {
       "model_id": "5a25443f819a495c95721065feffe35d",
       "version_major": 2,
       "version_minor": 0
      },
      "text/plain": [
       "Training:   0%|          | 0/4 [00:00<?, ?it/s]"
      ]
     },
     "metadata": {},
     "output_type": "display_data"
    },
    {
     "data": {
      "application/vnd.jupyter.widget-view+json": {
       "model_id": "99b0463349c34d44a23b8b2654af1ed9",
       "version_major": 2,
       "version_minor": 0
      },
      "text/plain": [
       "Validation:   0%|          | 0/1 [00:00<?, ?it/s]"
      ]
     },
     "metadata": {},
     "output_type": "display_data"
    },
    {
     "name": "stdout",
     "output_type": "stream",
     "text": [
      "Epoch 22/30 | Train Loss : 0.0023 | Val Loss : 0.4378\n"
     ]
    },
    {
     "data": {
      "application/vnd.jupyter.widget-view+json": {
       "model_id": "38f259cebb984001999b792fd6aa9e3c",
       "version_major": 2,
       "version_minor": 0
      },
      "text/plain": [
       "Training:   0%|          | 0/4 [00:00<?, ?it/s]"
      ]
     },
     "metadata": {},
     "output_type": "display_data"
    },
    {
     "data": {
      "application/vnd.jupyter.widget-view+json": {
       "model_id": "74f444951a1d4705b7e105f7540d2c8b",
       "version_major": 2,
       "version_minor": 0
      },
      "text/plain": [
       "Validation:   0%|          | 0/1 [00:00<?, ?it/s]"
      ]
     },
     "metadata": {},
     "output_type": "display_data"
    },
    {
     "name": "stdout",
     "output_type": "stream",
     "text": [
      "Epoch 23/30 | Train Loss : 0.0264 | Val Loss : 0.4350\n"
     ]
    },
    {
     "data": {
      "application/vnd.jupyter.widget-view+json": {
       "model_id": "b4b2ad7c40b142dfbbf6eb3fe48ee7aa",
       "version_major": 2,
       "version_minor": 0
      },
      "text/plain": [
       "Training:   0%|          | 0/4 [00:00<?, ?it/s]"
      ]
     },
     "metadata": {},
     "output_type": "display_data"
    },
    {
     "data": {
      "application/vnd.jupyter.widget-view+json": {
       "model_id": "a7c985e73a9f4e6b857c432285a6e7db",
       "version_major": 2,
       "version_minor": 0
      },
      "text/plain": [
       "Validation:   0%|          | 0/1 [00:00<?, ?it/s]"
      ]
     },
     "metadata": {},
     "output_type": "display_data"
    },
    {
     "name": "stdout",
     "output_type": "stream",
     "text": [
      "Epoch 24/30 | Train Loss : 0.0012 | Val Loss : 0.4303\n"
     ]
    },
    {
     "data": {
      "application/vnd.jupyter.widget-view+json": {
       "model_id": "30398c5df6a146f78af5deae2e113123",
       "version_major": 2,
       "version_minor": 0
      },
      "text/plain": [
       "Training:   0%|          | 0/4 [00:00<?, ?it/s]"
      ]
     },
     "metadata": {},
     "output_type": "display_data"
    },
    {
     "data": {
      "application/vnd.jupyter.widget-view+json": {
       "model_id": "02b259a8025f4d44b093e78499713485",
       "version_major": 2,
       "version_minor": 0
      },
      "text/plain": [
       "Validation:   0%|          | 0/1 [00:00<?, ?it/s]"
      ]
     },
     "metadata": {},
     "output_type": "display_data"
    },
    {
     "name": "stdout",
     "output_type": "stream",
     "text": [
      "Epoch 25/30 | Train Loss : 0.0008 | Val Loss : 0.4270\n"
     ]
    },
    {
     "data": {
      "application/vnd.jupyter.widget-view+json": {
       "model_id": "eae22a7e551d4a17aec72f8ed936fa81",
       "version_major": 2,
       "version_minor": 0
      },
      "text/plain": [
       "Training:   0%|          | 0/4 [00:00<?, ?it/s]"
      ]
     },
     "metadata": {},
     "output_type": "display_data"
    },
    {
     "data": {
      "application/vnd.jupyter.widget-view+json": {
       "model_id": "32d6746faea8423d91d1b130c56c0cf5",
       "version_major": 2,
       "version_minor": 0
      },
      "text/plain": [
       "Validation:   0%|          | 0/1 [00:00<?, ?it/s]"
      ]
     },
     "metadata": {},
     "output_type": "display_data"
    },
    {
     "name": "stdout",
     "output_type": "stream",
     "text": [
      "Epoch 26/30 | Train Loss : 0.0015 | Val Loss : 0.4248\n"
     ]
    },
    {
     "data": {
      "application/vnd.jupyter.widget-view+json": {
       "model_id": "1377104c160a422483024f709ec3cad5",
       "version_major": 2,
       "version_minor": 0
      },
      "text/plain": [
       "Training:   0%|          | 0/4 [00:00<?, ?it/s]"
      ]
     },
     "metadata": {},
     "output_type": "display_data"
    },
    {
     "data": {
      "application/vnd.jupyter.widget-view+json": {
       "model_id": "833c3c1642e84ec3bb716cc9322b6cf2",
       "version_major": 2,
       "version_minor": 0
      },
      "text/plain": [
       "Validation:   0%|          | 0/1 [00:00<?, ?it/s]"
      ]
     },
     "metadata": {},
     "output_type": "display_data"
    },
    {
     "name": "stdout",
     "output_type": "stream",
     "text": [
      "Epoch 27/30 | Train Loss : 0.0713 | Val Loss : 0.4253\n"
     ]
    },
    {
     "data": {
      "application/vnd.jupyter.widget-view+json": {
       "model_id": "22832025e3a841778590052076a72ed7",
       "version_major": 2,
       "version_minor": 0
      },
      "text/plain": [
       "Training:   0%|          | 0/4 [00:00<?, ?it/s]"
      ]
     },
     "metadata": {},
     "output_type": "display_data"
    },
    {
     "data": {
      "application/vnd.jupyter.widget-view+json": {
       "model_id": "a003b831b36345bf869d0ed78917b66a",
       "version_major": 2,
       "version_minor": 0
      },
      "text/plain": [
       "Validation:   0%|          | 0/1 [00:00<?, ?it/s]"
      ]
     },
     "metadata": {},
     "output_type": "display_data"
    },
    {
     "name": "stdout",
     "output_type": "stream",
     "text": [
      "Epoch 28/30 | Train Loss : 0.0224 | Val Loss : 0.4270\n"
     ]
    },
    {
     "data": {
      "application/vnd.jupyter.widget-view+json": {
       "model_id": "ae530e071a0d424e9dfccc0a872927d8",
       "version_major": 2,
       "version_minor": 0
      },
      "text/plain": [
       "Training:   0%|          | 0/4 [00:00<?, ?it/s]"
      ]
     },
     "metadata": {},
     "output_type": "display_data"
    },
    {
     "data": {
      "application/vnd.jupyter.widget-view+json": {
       "model_id": "cab3e839e4ae43a193697ac42916de0d",
       "version_major": 2,
       "version_minor": 0
      },
      "text/plain": [
       "Validation:   0%|          | 0/1 [00:00<?, ?it/s]"
      ]
     },
     "metadata": {},
     "output_type": "display_data"
    },
    {
     "name": "stdout",
     "output_type": "stream",
     "text": [
      "Epoch 29/30 | Train Loss : 0.0332 | Val Loss : 0.4281\n"
     ]
    },
    {
     "data": {
      "application/vnd.jupyter.widget-view+json": {
       "model_id": "8d20e1fa8f2f4cf9808496cfa52d5b47",
       "version_major": 2,
       "version_minor": 0
      },
      "text/plain": [
       "Training:   0%|          | 0/4 [00:00<?, ?it/s]"
      ]
     },
     "metadata": {},
     "output_type": "display_data"
    },
    {
     "data": {
      "application/vnd.jupyter.widget-view+json": {
       "model_id": "1aefad943abe44a9ab2eae390722393e",
       "version_major": 2,
       "version_minor": 0
      },
      "text/plain": [
       "Validation:   0%|          | 0/1 [00:00<?, ?it/s]"
      ]
     },
     "metadata": {},
     "output_type": "display_data"
    },
    {
     "name": "stdout",
     "output_type": "stream",
     "text": [
      "Epoch 30/30 | Train Loss : 0.0005 | Val Loss : 0.4259\n",
      "학습완료\n"
     ]
    },
    {
     "data": {
      "image/png": "[encoded data removed]",
      "text/plain": [
       "<Figure size 1000x500 with 1 Axes>"
      ]
     },
     "metadata": {},
     "output_type": "display_data"
    }
   ],
   "source": [
    "# --- 2. 모델학습 준비--- \n",
    "# GPU 사용설정\n",
    "device = 'cuda' if torch.cuda.is_available() else 'cpu'\n",
    "\n",
    "# 학습데이터 : 검증데이터 = 8 : 2\n",
    "train_df, val_df = train_test_split(df, test_size=0.2, random_state = 42)\n",
    "\n",
    "# 사전학슴된 CLIP 모델 및 프로세서 불러오기\n",
    "model = CLIPModel.from_pretrained('openai/clip-vit-base-patch32').to(device)\n",
    "processor = CLIPProcessor.from_pretrained('openai/clip-vit-base-patch32')\n",
    "\n",
    "# 데이터셋 로드\n",
    "# train\n",
    "train_dataset = ImageCaptionDataset(train_df, processor) # dataset : 모델 입력값\n",
    "train_dataloader = DataLoader(train_dataset, batch_size = 20, shuffle = True)\n",
    "# val\n",
    "val_dataset = ImageCaptionDataset(val_df, processor)\n",
    "val_dataloader = DataLoader(val_dataset, batch_size = 20, shuffle = True)\n",
    "\n",
    "# 옵티마이저 설정\n",
    "optimizer = AdamW(model.parameters(), lr = 5e-6)\n",
    "num_epochs = 30\n",
    "\n",
    "# --- 3. 학습 및 검증 로직 구현 ---\n",
    "train_losses = []\n",
    "val_losses = []\n",
    "\n",
    "for epoch in tqdm(range(num_epochs), desc = 'Epochs'):\n",
    "    # --- 학습 부분 ---\n",
    "    model.train() # 모델 학습 모드 설정\n",
    "    total_train_loss = 0\n",
    "    \n",
    "    for batch in tqdm(train_dataloader, desc = 'Training', leave = False) :\n",
    "        # 배치 데이터를 device로 이동\n",
    "        batch = {k:v.to(device) for k, v in batch.items()} # dataset의 'pixel_values', 'input_ids', 'attention_mask'가 key값이고, pytorch tensor가 value 값\n",
    "\n",
    "        # 모델에 입력을 전달하여 출력과 손실(loss)을 계산\n",
    "        # huggingface CLIPModel은 입력을 위와 같이 구성(딕셔너리 자료형태 batch)하면 contrasive loss가 자동으로 계산\n",
    "        outputs = model(**batch, return_loss = True)\n",
    "        loss = outputs.loss\n",
    "\n",
    "        # 역전파\n",
    "        loss.backward()\n",
    "        optimizer.step() # 파리머터 업데이트\n",
    "        optimizer.zero_grad() # 기울기 초기화 : 다음 파라미터 업데이트에 영향을 주지 않도록 새로운 계산을 위해 기울기를 0으로 초기화\n",
    "\n",
    "        total_train_loss += loss.item() \n",
    "        \n",
    "    avg_train_loss = total_train_loss / len(train_dataloader)\n",
    "    train_losses.append(avg_train_loss) # 학습 epoch에 따른 loss 경과 저장\n",
    "\n",
    "    # --- 검증 부분 ---\n",
    "    model.eval() # 모델 평가 모드 설정\n",
    "    total_val_loss = 0\n",
    "    with torch.no_grad() : # 그래디언트 계산 비활성화 (테스트 시에는 모델 가중치 업데이트 안하니까)\n",
    "        for batch in tqdm(val_dataloader, desc = 'Validation', leave = False) : \n",
    "            batch = {k:v.to(device) for k, v in batch.items()}\n",
    "            outputs = model(**batch, return_loss = True)\n",
    "            loss = outputs.loss\n",
    "\n",
    "            total_val_loss += loss.item()\n",
    "    avg_val_loss = total_val_loss / len(val_dataloader)\n",
    "    val_losses.append(avg_val_loss)\n",
    "\n",
    "    print(f\"Epoch {epoch + 1}/{num_epochs} | Train Loss : {avg_train_loss:.4f} | Val Loss : {avg_val_loss:.4f}\")\n",
    "\n",
    "\n",
    "print('학습완료')\n",
    "\n",
    "# --- 4. 검증 시각화 --- \n",
    "\n",
    "plt.figure(figsize = (10, 5))\n",
    "plt.plot(train_losses, label = 'Training Loss')\n",
    "plt.plot(val_losses, label = 'Validation Loss')\n",
    "plt.title('Training - Validation Loss')\n",
    "plt.xlabel('Epoch')\n",
    "plt.ylabel('Loss')\n",
    "plt.legend()\n",
    "plt.show()"
   ]
  },
  {
   "cell_type": "code",
   "execution_count": 6,
   "id": "6dbbd4f9-3f91-4f35-ba9a-0f10333bbee5",
   "metadata": {},
   "outputs": [
    {
     "name": "stdout",
     "output_type": "stream",
     "text": [
      "모델이 ./clip_finetuned에 저장되었습니다.\n"
     ]
    }
   ],
   "source": [
    "# --- 5. 파인튜닝 모델 저장 ---\n",
    "save_path = './clip_finetuned'\n",
    "model.save_pretrained(save_path)\n",
    "processor.save_pretrained(save_path)\n",
    "\n",
    "print(f'모델이 {save_path}에 저장되었습니다.')"
   ]
  },
  {
   "attachments": {
    "f4b6716e-d00e-4dff-8d94-2561ac4159dc.png": {
     "image/png": "[encoded data removed]"
    }
   },
   "cell_type": "markdown",
   "id": "644c23b6-3282-4a52-9422-89d19be9d3ff",
   "metadata": {},
   "source": [
    "### convert해주는 이유\n",
    "![image.png](attachment:f4b6716e-d00e-4dff-8d94-2561ac4159dc.png)"
   ]
  },
  {
   "attachments": {
    "436606f5-0217-438d-96dd-21c5bcf0aa2e.png": {
     "image/png": "[encoded data removed]"
    }
   },
   "cell_type": "markdown",
   "id": "aecac8c6-e1de-47c6-8451-d10b9ef14259",
   "metadata": {},
   "source": [
    "### squeeze하는 이유\n",
    "![image.png](attachment:436606f5-0217-438d-96dd-21c5bcf0aa2e.png)"
   ]
  },
  {
   "attachments": {
    "7c1afe6e-a16c-4985-8140-e8da78381344.png": {
     "image/png": "[encoded data removed]"
    }
   },
   "cell_type": "markdown",
   "id": "8b256045-09cc-4b33-bfae-1ae6882be0fa",
   "metadata": {},
   "source": [
    "### 모델학습에서 batch의 형태\n",
    "![image.png](attachment:7c1afe6e-a16c-4985-8140-e8da78381344.png)"
   ]
  },
  {
   "cell_type": "markdown",
   "id": "6b5879e4-5849-4c20-82a0-7dc93e9c0cc3",
   "metadata": {},
   "source": [
    "## 과적합 개선\n",
    "- 레이어 동결 : 사전학습 모델 일부는 그대로 두고 마지막 단의 일부 레이어만 학습\n",
    "    - vision_model, text_model의 가중치 업데이트 동결\n",
    "    - 최종 projection 레이어만 학습\n",
    "- 조기종료 : 검증 손실함수가 감소하지 않고 오히려 증가하기 시작하면, 과적합만 심화 -> 불필요한 학습을 조기 중단"
   ]
  },
  {
   "cell_type": "code",
   "execution_count": 9,
   "id": "04498217-30fe-497c-b4e5-d6ef7798ac80",
   "metadata": {},
   "outputs": [
    {
     "data": {
      "application/vnd.jupyter.widget-view+json": {
       "model_id": "7abec3c07fc34380999f0d8d6f68b2bb",
       "version_major": 2,
       "version_minor": 0
      },
      "text/plain": [
       "Epochs:   0%|          | 0/30 [00:00<?, ?it/s]"
      ]
     },
     "metadata": {},
     "output_type": "display_data"
    },
    {
     "data": {
      "application/vnd.jupyter.widget-view+json": {
       "model_id": "bb9a579041b847828cdd3c5d50b61e15",
       "version_major": 2,
       "version_minor": 0
      },
      "text/plain": [
       "Training:   0%|          | 0/4 [00:00<?, ?it/s]"
      ]
     },
     "metadata": {},
     "output_type": "display_data"
    },
    {
     "data": {
      "application/vnd.jupyter.widget-view+json": {
       "model_id": "8b79ba02f16443e1a27091fcce1f1c8f",
       "version_major": 2,
       "version_minor": 0
      },
      "text/plain": [
       "Validation:   0%|          | 0/1 [00:00<?, ?it/s]"
      ]
     },
     "metadata": {},
     "output_type": "display_data"
    },
    {
     "name": "stdout",
     "output_type": "stream",
     "text": [
      "Epoch 1/30 | Train Loss : 0.7422 | Val Loss : 0.7471\n"
     ]
    },
    {
     "data": {
      "application/vnd.jupyter.widget-view+json": {
       "model_id": "7fc6c6f95486483190ba3ce0483ffba2",
       "version_major": 2,
       "version_minor": 0
      },
      "text/plain": [
       "Training:   0%|          | 0/4 [00:00<?, ?it/s]"
      ]
     },
     "metadata": {},
     "output_type": "display_data"
    },
    {
     "data": {
      "application/vnd.jupyter.widget-view+json": {
       "model_id": "d2b3ddead92145cab4e23962bdb8b814",
       "version_major": 2,
       "version_minor": 0
      },
      "text/plain": [
       "Validation:   0%|          | 0/1 [00:00<?, ?it/s]"
      ]
     },
     "metadata": {},
     "output_type": "display_data"
    },
    {
     "name": "stdout",
     "output_type": "stream",
     "text": [
      "Epoch 2/30 | Train Loss : 0.8021 | Val Loss : 0.7401\n"
     ]
    },
    {
     "data": {
      "application/vnd.jupyter.widget-view+json": {
       "model_id": "36f714186ddb44e8b0988484f5b506a4",
       "version_major": 2,
       "version_minor": 0
      },
      "text/plain": [
       "Training:   0%|          | 0/4 [00:00<?, ?it/s]"
      ]
     },
     "metadata": {},
     "output_type": "display_data"
    },
    {
     "data": {
      "application/vnd.jupyter.widget-view+json": {
       "model_id": "e2968144eabe4986aaf417f008779d23",
       "version_major": 2,
       "version_minor": 0
      },
      "text/plain": [
       "Validation:   0%|          | 0/1 [00:00<?, ?it/s]"
      ]
     },
     "metadata": {},
     "output_type": "display_data"
    },
    {
     "name": "stdout",
     "output_type": "stream",
     "text": [
      "Epoch 3/30 | Train Loss : 0.7475 | Val Loss : 0.7345\n"
     ]
    },
    {
     "data": {
      "application/vnd.jupyter.widget-view+json": {
       "model_id": "37621e315c1c4e87b2dada3c124955ff",
       "version_major": 2,
       "version_minor": 0
      },
      "text/plain": [
       "Training:   0%|          | 0/4 [00:00<?, ?it/s]"
      ]
     },
     "metadata": {},
     "output_type": "display_data"
    },
    {
     "data": {
      "application/vnd.jupyter.widget-view+json": {
       "model_id": "9ccdd5fdc9744f279c8a4002cb5bf47a",
       "version_major": 2,
       "version_minor": 0
      },
      "text/plain": [
       "Validation:   0%|          | 0/1 [00:00<?, ?it/s]"
      ]
     },
     "metadata": {},
     "output_type": "display_data"
    },
    {
     "name": "stdout",
     "output_type": "stream",
     "text": [
      "Epoch 4/30 | Train Loss : 0.6940 | Val Loss : 0.7292\n"
     ]
    },
    {
     "data": {
      "application/vnd.jupyter.widget-view+json": {
       "model_id": "c348a0f34b374c1bb4aed353105cf459",
       "version_major": 2,
       "version_minor": 0
      },
      "text/plain": [
       "Training:   0%|          | 0/4 [00:00<?, ?it/s]"
      ]
     },
     "metadata": {},
     "output_type": "display_data"
    },
    {
     "data": {
      "application/vnd.jupyter.widget-view+json": {
       "model_id": "aef3a640282b46fba6fa5218f4afbcf3",
       "version_major": 2,
       "version_minor": 0
      },
      "text/plain": [
       "Validation:   0%|          | 0/1 [00:00<?, ?it/s]"
      ]
     },
     "metadata": {},
     "output_type": "display_data"
    },
    {
     "name": "stdout",
     "output_type": "stream",
     "text": [
      "Epoch 5/30 | Train Loss : 0.6053 | Val Loss : 0.7233\n"
     ]
    },
    {
     "data": {
      "application/vnd.jupyter.widget-view+json": {
       "model_id": "15104bd9b30f48f3be2111fec569ab89",
       "version_major": 2,
       "version_minor": 0
      },
      "text/plain": [
       "Training:   0%|          | 0/4 [00:00<?, ?it/s]"
      ]
     },
     "metadata": {},
     "output_type": "display_data"
    },
    {
     "data": {
      "application/vnd.jupyter.widget-view+json": {
       "model_id": "00b337069b534475907ac7fe40fa7b6a",
       "version_major": 2,
       "version_minor": 0
      },
      "text/plain": [
       "Validation:   0%|          | 0/1 [00:00<?, ?it/s]"
      ]
     },
     "metadata": {},
     "output_type": "display_data"
    },
    {
     "name": "stdout",
     "output_type": "stream",
     "text": [
      "Epoch 6/30 | Train Loss : 0.6354 | Val Loss : 0.7185\n"
     ]
    },
    {
     "data": {
      "application/vnd.jupyter.widget-view+json": {
       "model_id": "c06bfaf727ce4fde8dc63fe40c34134d",
       "version_major": 2,
       "version_minor": 0
      },
      "text/plain": [
       "Training:   0%|          | 0/4 [00:00<?, ?it/s]"
      ]
     },
     "metadata": {},
     "output_type": "display_data"
    },
    {
     "data": {
      "application/vnd.jupyter.widget-view+json": {
       "model_id": "77f2a6a3ac544c9fac2e03b462962799",
       "version_major": 2,
       "version_minor": 0
      },
      "text/plain": [
       "Validation:   0%|          | 0/1 [00:00<?, ?it/s]"
      ]
     },
     "metadata": {},
     "output_type": "display_data"
    },
    {
     "name": "stdout",
     "output_type": "stream",
     "text": [
      "Epoch 7/30 | Train Loss : 0.4203 | Val Loss : 0.7152\n"
     ]
    },
    {
     "data": {
      "application/vnd.jupyter.widget-view+json": {
       "model_id": "1f9e870ed13f4812a12939ec9a88052a",
       "version_major": 2,
       "version_minor": 0
      },
      "text/plain": [
       "Training:   0%|          | 0/4 [00:00<?, ?it/s]"
      ]
     },
     "metadata": {},
     "output_type": "display_data"
    },
    {
     "data": {
      "application/vnd.jupyter.widget-view+json": {
       "model_id": "39136314778448c2a1f15d7234440aa0",
       "version_major": 2,
       "version_minor": 0
      },
      "text/plain": [
       "Validation:   0%|          | 0/1 [00:00<?, ?it/s]"
      ]
     },
     "metadata": {},
     "output_type": "display_data"
    },
    {
     "name": "stdout",
     "output_type": "stream",
     "text": [
      "Epoch 8/30 | Train Loss : 0.4746 | Val Loss : 0.7121\n"
     ]
    },
    {
     "data": {
      "application/vnd.jupyter.widget-view+json": {
       "model_id": "cb381a78a12b46fb87d2d48eecba6af2",
       "version_major": 2,
       "version_minor": 0
      },
      "text/plain": [
       "Training:   0%|          | 0/4 [00:00<?, ?it/s]"
      ]
     },
     "metadata": {},
     "output_type": "display_data"
    },
    {
     "data": {
      "application/vnd.jupyter.widget-view+json": {
       "model_id": "4a4f38bb0aa34773b01dcf2114cebc93",
       "version_major": 2,
       "version_minor": 0
      },
      "text/plain": [
       "Validation:   0%|          | 0/1 [00:00<?, ?it/s]"
      ]
     },
     "metadata": {},
     "output_type": "display_data"
    },
    {
     "name": "stdout",
     "output_type": "stream",
     "text": [
      "Epoch 9/30 | Train Loss : 0.4547 | Val Loss : 0.7100\n"
     ]
    },
    {
     "data": {
      "application/vnd.jupyter.widget-view+json": {
       "model_id": "97d9f5f2b1ef4266b7f06e4c192eea2a",
       "version_major": 2,
       "version_minor": 0
      },
      "text/plain": [
       "Training:   0%|          | 0/4 [00:00<?, ?it/s]"
      ]
     },
     "metadata": {},
     "output_type": "display_data"
    },
    {
     "data": {
      "application/vnd.jupyter.widget-view+json": {
       "model_id": "ba1fc1dd59f643869563c2ca32392c10",
       "version_major": 2,
       "version_minor": 0
      },
      "text/plain": [
       "Validation:   0%|          | 0/1 [00:00<?, ?it/s]"
      ]
     },
     "metadata": {},
     "output_type": "display_data"
    },
    {
     "name": "stdout",
     "output_type": "stream",
     "text": [
      "Epoch 10/30 | Train Loss : 0.4234 | Val Loss : 0.7078\n"
     ]
    },
    {
     "data": {
      "application/vnd.jupyter.widget-view+json": {
       "model_id": "155a6d9cc4274d9b80a7afecc2d08b0e",
       "version_major": 2,
       "version_minor": 0
      },
      "text/plain": [
       "Training:   0%|          | 0/4 [00:00<?, ?it/s]"
      ]
     },
     "metadata": {},
     "output_type": "display_data"
    },
    {
     "data": {
      "application/vnd.jupyter.widget-view+json": {
       "model_id": "e73cade5ad9e4cc7a0c4b6d21f95d37d",
       "version_major": 2,
       "version_minor": 0
      },
      "text/plain": [
       "Validation:   0%|          | 0/1 [00:00<?, ?it/s]"
      ]
     },
     "metadata": {},
     "output_type": "display_data"
    },
    {
     "name": "stdout",
     "output_type": "stream",
     "text": [
      "Epoch 11/30 | Train Loss : 0.4341 | Val Loss : 0.7058\n"
     ]
    },
    {
     "data": {
      "application/vnd.jupyter.widget-view+json": {
       "model_id": "838680e15e7a4a66bca58fe910279d92",
       "version_major": 2,
       "version_minor": 0
      },
      "text/plain": [
       "Training:   0%|          | 0/4 [00:00<?, ?it/s]"
      ]
     },
     "metadata": {},
     "output_type": "display_data"
    },
    {
     "data": {
      "application/vnd.jupyter.widget-view+json": {
       "model_id": "6e9208aadf7844e58f8ad86768cfa316",
       "version_major": 2,
       "version_minor": 0
      },
      "text/plain": [
       "Validation:   0%|          | 0/1 [00:00<?, ?it/s]"
      ]
     },
     "metadata": {},
     "output_type": "display_data"
    },
    {
     "name": "stdout",
     "output_type": "stream",
     "text": [
      "Epoch 12/30 | Train Loss : 0.3568 | Val Loss : 0.7045\n"
     ]
    },
    {
     "data": {
      "application/vnd.jupyter.widget-view+json": {
       "model_id": "9e6ab3c38284468b91d5f9815b61ca19",
       "version_major": 2,
       "version_minor": 0
      },
      "text/plain": [
       "Training:   0%|          | 0/4 [00:00<?, ?it/s]"
      ]
     },
     "metadata": {},
     "output_type": "display_data"
    },
    {
     "data": {
      "application/vnd.jupyter.widget-view+json": {
       "model_id": "4e4d42cc9c1648f090d8457131b64856",
       "version_major": 2,
       "version_minor": 0
      },
      "text/plain": [
       "Validation:   0%|          | 0/1 [00:00<?, ?it/s]"
      ]
     },
     "metadata": {},
     "output_type": "display_data"
    },
    {
     "name": "stdout",
     "output_type": "stream",
     "text": [
      "Epoch 13/30 | Train Loss : 0.3425 | Val Loss : 0.7027\n"
     ]
    },
    {
     "data": {
      "application/vnd.jupyter.widget-view+json": {
       "model_id": "c03a3b0982744d009d6471a4a29df055",
       "version_major": 2,
       "version_minor": 0
      },
      "text/plain": [
       "Training:   0%|          | 0/4 [00:00<?, ?it/s]"
      ]
     },
     "metadata": {},
     "output_type": "display_data"
    },
    {
     "data": {
      "application/vnd.jupyter.widget-view+json": {
       "model_id": "7b3c4a380bb546a8abe2d760ea3d7409",
       "version_major": 2,
       "version_minor": 0
      },
      "text/plain": [
       "Validation:   0%|          | 0/1 [00:00<?, ?it/s]"
      ]
     },
     "metadata": {},
     "output_type": "display_data"
    },
    {
     "name": "stdout",
     "output_type": "stream",
     "text": [
      "Epoch 14/30 | Train Loss : 0.3428 | Val Loss : 0.7003\n"
     ]
    },
    {
     "data": {
      "application/vnd.jupyter.widget-view+json": {
       "model_id": "df0b588a398a4254a999a5e8c01d1bf7",
       "version_major": 2,
       "version_minor": 0
      },
      "text/plain": [
       "Training:   0%|          | 0/4 [00:00<?, ?it/s]"
      ]
     },
     "metadata": {},
     "output_type": "display_data"
    },
    {
     "data": {
      "application/vnd.jupyter.widget-view+json": {
       "model_id": "fb9877203a1d46758c68fcc46c48506b",
       "version_major": 2,
       "version_minor": 0
      },
      "text/plain": [
       "Validation:   0%|          | 0/1 [00:00<?, ?it/s]"
      ]
     },
     "metadata": {},
     "output_type": "display_data"
    },
    {
     "name": "stdout",
     "output_type": "stream",
     "text": [
      "Epoch 15/30 | Train Loss : 0.2595 | Val Loss : 0.6990\n"
     ]
    },
    {
     "data": {
      "application/vnd.jupyter.widget-view+json": {
       "model_id": "fbe113f8f73c4a82958dd13a3d94df5f",
       "version_major": 2,
       "version_minor": 0
      },
      "text/plain": [
       "Training:   0%|          | 0/4 [00:00<?, ?it/s]"
      ]
     },
     "metadata": {},
     "output_type": "display_data"
    },
    {
     "data": {
      "application/vnd.jupyter.widget-view+json": {
       "model_id": "afaf52fe65a3471f91d636699f78fd76",
       "version_major": 2,
       "version_minor": 0
      },
      "text/plain": [
       "Validation:   0%|          | 0/1 [00:00<?, ?it/s]"
      ]
     },
     "metadata": {},
     "output_type": "display_data"
    },
    {
     "name": "stdout",
     "output_type": "stream",
     "text": [
      "Epoch 16/30 | Train Loss : 0.2355 | Val Loss : 0.6973\n"
     ]
    },
    {
     "data": {
      "application/vnd.jupyter.widget-view+json": {
       "model_id": "d35e78a938a94046a96855a5e5ca4179",
       "version_major": 2,
       "version_minor": 0
      },
      "text/plain": [
       "Training:   0%|          | 0/4 [00:00<?, ?it/s]"
      ]
     },
     "metadata": {},
     "output_type": "display_data"
    },
    {
     "data": {
      "application/vnd.jupyter.widget-view+json": {
       "model_id": "857439c80395460c81913d165a49f495",
       "version_major": 2,
       "version_minor": 0
      },
      "text/plain": [
       "Validation:   0%|          | 0/1 [00:00<?, ?it/s]"
      ]
     },
     "metadata": {},
     "output_type": "display_data"
    },
    {
     "name": "stdout",
     "output_type": "stream",
     "text": [
      "Epoch 17/30 | Train Loss : 0.2557 | Val Loss : 0.6964\n"
     ]
    },
    {
     "data": {
      "application/vnd.jupyter.widget-view+json": {
       "model_id": "c8bdabf71e474638acb3b9debe74e84b",
       "version_major": 2,
       "version_minor": 0
      },
      "text/plain": [
       "Training:   0%|          | 0/4 [00:00<?, ?it/s]"
      ]
     },
     "metadata": {},
     "output_type": "display_data"
    },
    {
     "data": {
      "application/vnd.jupyter.widget-view+json": {
       "model_id": "cdaf436c3731478ab7ce91a837128355",
       "version_major": 2,
       "version_minor": 0
      },
      "text/plain": [
       "Validation:   0%|          | 0/1 [00:00<?, ?it/s]"
      ]
     },
     "metadata": {},
     "output_type": "display_data"
    },
    {
     "name": "stdout",
     "output_type": "stream",
     "text": [
      "Epoch 18/30 | Train Loss : 0.3100 | Val Loss : 0.6950\n"
     ]
    },
    {
     "data": {
      "application/vnd.jupyter.widget-view+json": {
       "model_id": "7fc091d4a0ea483ebddcb26c2e119dee",
       "version_major": 2,
       "version_minor": 0
      },
      "text/plain": [
       "Training:   0%|          | 0/4 [00:00<?, ?it/s]"
      ]
     },
     "metadata": {},
     "output_type": "display_data"
    },
    {
     "data": {
      "application/vnd.jupyter.widget-view+json": {
       "model_id": "9ee0833d5bb34f78b066e68309feeb0b",
       "version_major": 2,
       "version_minor": 0
      },
      "text/plain": [
       "Validation:   0%|          | 0/1 [00:00<?, ?it/s]"
      ]
     },
     "metadata": {},
     "output_type": "display_data"
    },
    {
     "name": "stdout",
     "output_type": "stream",
     "text": [
      "Epoch 19/30 | Train Loss : 0.2974 | Val Loss : 0.6924\n"
     ]
    },
    {
     "data": {
      "application/vnd.jupyter.widget-view+json": {
       "model_id": "7d45f5d7c2f94f8191cba330afeb344e",
       "version_major": 2,
       "version_minor": 0
      },
      "text/plain": [
       "Training:   0%|          | 0/4 [00:00<?, ?it/s]"
      ]
     },
     "metadata": {},
     "output_type": "display_data"
    },
    {
     "data": {
      "application/vnd.jupyter.widget-view+json": {
       "model_id": "d4345c5984324d259e4d19c9f643947c",
       "version_major": 2,
       "version_minor": 0
      },
      "text/plain": [
       "Validation:   0%|          | 0/1 [00:00<?, ?it/s]"
      ]
     },
     "metadata": {},
     "output_type": "display_data"
    },
    {
     "name": "stdout",
     "output_type": "stream",
     "text": [
      "Epoch 20/30 | Train Loss : 0.2614 | Val Loss : 0.6909\n"
     ]
    },
    {
     "data": {
      "application/vnd.jupyter.widget-view+json": {
       "model_id": "32ecbcd886ea484a80d5768f6e3bc863",
       "version_major": 2,
       "version_minor": 0
      },
      "text/plain": [
       "Training:   0%|          | 0/4 [00:00<?, ?it/s]"
      ]
     },
     "metadata": {},
     "output_type": "display_data"
    },
    {
     "data": {
      "application/vnd.jupyter.widget-view+json": {
       "model_id": "5cc3c64cc2724f3a8fc729d5a5b255d6",
       "version_major": 2,
       "version_minor": 0
      },
      "text/plain": [
       "Validation:   0%|          | 0/1 [00:00<?, ?it/s]"
      ]
     },
     "metadata": {},
     "output_type": "display_data"
    },
    {
     "name": "stdout",
     "output_type": "stream",
     "text": [
      "Epoch 21/30 | Train Loss : 0.1744 | Val Loss : 0.6900\n"
     ]
    },
    {
     "data": {
      "application/vnd.jupyter.widget-view+json": {
       "model_id": "3aba2ef1a5c34342b47d088d83fb7435",
       "version_major": 2,
       "version_minor": 0
      },
      "text/plain": [
       "Training:   0%|          | 0/4 [00:00<?, ?it/s]"
      ]
     },
     "metadata": {},
     "output_type": "display_data"
    },
    {
     "data": {
      "application/vnd.jupyter.widget-view+json": {
       "model_id": "0fc30fd4f5bb4c85bb84026b1252acd6",
       "version_major": 2,
       "version_minor": 0
      },
      "text/plain": [
       "Validation:   0%|          | 0/1 [00:00<?, ?it/s]"
      ]
     },
     "metadata": {},
     "output_type": "display_data"
    },
    {
     "name": "stdout",
     "output_type": "stream",
     "text": [
      "Epoch 22/30 | Train Loss : 0.1940 | Val Loss : 0.6897\n"
     ]
    },
    {
     "data": {
      "application/vnd.jupyter.widget-view+json": {
       "model_id": "b81565a7bb2a46918c587c89810862ca",
       "version_major": 2,
       "version_minor": 0
      },
      "text/plain": [
       "Training:   0%|          | 0/4 [00:00<?, ?it/s]"
      ]
     },
     "metadata": {},
     "output_type": "display_data"
    },
    {
     "data": {
      "application/vnd.jupyter.widget-view+json": {
       "model_id": "185c6c07af0e41fdb7f1b5b9759cc1ea",
       "version_major": 2,
       "version_minor": 0
      },
      "text/plain": [
       "Validation:   0%|          | 0/1 [00:00<?, ?it/s]"
      ]
     },
     "metadata": {},
     "output_type": "display_data"
    },
    {
     "name": "stdout",
     "output_type": "stream",
     "text": [
      "Epoch 23/30 | Train Loss : 0.2736 | Val Loss : 0.6898\n"
     ]
    },
    {
     "data": {
      "application/vnd.jupyter.widget-view+json": {
       "model_id": "83e82fc9d0dd4948a9906032b3f87fc2",
       "version_major": 2,
       "version_minor": 0
      },
      "text/plain": [
       "Training:   0%|          | 0/4 [00:00<?, ?it/s]"
      ]
     },
     "metadata": {},
     "output_type": "display_data"
    },
    {
     "data": {
      "application/vnd.jupyter.widget-view+json": {
       "model_id": "47690a401eb84cdfaf2c0edb3e823534",
       "version_major": 2,
       "version_minor": 0
      },
      "text/plain": [
       "Validation:   0%|          | 0/1 [00:00<?, ?it/s]"
      ]
     },
     "metadata": {},
     "output_type": "display_data"
    },
    {
     "name": "stdout",
     "output_type": "stream",
     "text": [
      "Epoch 24/30 | Train Loss : 0.3128 | Val Loss : 0.6890\n"
     ]
    },
    {
     "data": {
      "application/vnd.jupyter.widget-view+json": {
       "model_id": "e4ab9c836f244999af6983e3128e7208",
       "version_major": 2,
       "version_minor": 0
      },
      "text/plain": [
       "Training:   0%|          | 0/4 [00:00<?, ?it/s]"
      ]
     },
     "metadata": {},
     "output_type": "display_data"
    },
    {
     "data": {
      "application/vnd.jupyter.widget-view+json": {
       "model_id": "1eef84bfc2394c03b8010a148e4f615b",
       "version_major": 2,
       "version_minor": 0
      },
      "text/plain": [
       "Validation:   0%|          | 0/1 [00:00<?, ?it/s]"
      ]
     },
     "metadata": {},
     "output_type": "display_data"
    },
    {
     "name": "stdout",
     "output_type": "stream",
     "text": [
      "Epoch 25/30 | Train Loss : 0.2591 | Val Loss : 0.6882\n"
     ]
    },
    {
     "data": {
      "application/vnd.jupyter.widget-view+json": {
       "model_id": "bac43b6b369342dd8308d8c3e8b7c1ed",
       "version_major": 2,
       "version_minor": 0
      },
      "text/plain": [
       "Training:   0%|          | 0/4 [00:00<?, ?it/s]"
      ]
     },
     "metadata": {},
     "output_type": "display_data"
    },
    {
     "data": {
      "application/vnd.jupyter.widget-view+json": {
       "model_id": "f1348a26b27d451382a40b68350a5803",
       "version_major": 2,
       "version_minor": 0
      },
      "text/plain": [
       "Validation:   0%|          | 0/1 [00:00<?, ?it/s]"
      ]
     },
     "metadata": {},
     "output_type": "display_data"
    },
    {
     "name": "stdout",
     "output_type": "stream",
     "text": [
      "Epoch 26/30 | Train Loss : 0.1902 | Val Loss : 0.6872\n"
     ]
    },
    {
     "data": {
      "application/vnd.jupyter.widget-view+json": {
       "model_id": "80470e32cc2448a8bd3afccb217daef8",
       "version_major": 2,
       "version_minor": 0
      },
      "text/plain": [
       "Training:   0%|          | 0/4 [00:00<?, ?it/s]"
      ]
     },
     "metadata": {},
     "output_type": "display_data"
    },
    {
     "data": {
      "application/vnd.jupyter.widget-view+json": {
       "model_id": "bded471b95dd4291bbeb8a351d9eb37a",
       "version_major": 2,
       "version_minor": 0
      },
      "text/plain": [
       "Validation:   0%|          | 0/1 [00:00<?, ?it/s]"
      ]
     },
     "metadata": {},
     "output_type": "display_data"
    },
    {
     "name": "stdout",
     "output_type": "stream",
     "text": [
      "Epoch 27/30 | Train Loss : 0.1709 | Val Loss : 0.6867\n"
     ]
    },
    {
     "data": {
      "application/vnd.jupyter.widget-view+json": {
       "model_id": "a4fa24e06d2546818fe83d09d92925c1",
       "version_major": 2,
       "version_minor": 0
      },
      "text/plain": [
       "Training:   0%|          | 0/4 [00:00<?, ?it/s]"
      ]
     },
     "metadata": {},
     "output_type": "display_data"
    },
    {
     "data": {
      "application/vnd.jupyter.widget-view+json": {
       "model_id": "c4f6b9f1ff044784a625cb3c727070a5",
       "version_major": 2,
       "version_minor": 0
      },
      "text/plain": [
       "Validation:   0%|          | 0/1 [00:00<?, ?it/s]"
      ]
     },
     "metadata": {},
     "output_type": "display_data"
    },
    {
     "name": "stdout",
     "output_type": "stream",
     "text": [
      "Epoch 28/30 | Train Loss : 0.1939 | Val Loss : 0.6862\n"
     ]
    },
    {
     "data": {
      "application/vnd.jupyter.widget-view+json": {
       "model_id": "4dc0501d6d344d2eb5c0d9e0452df446",
       "version_major": 2,
       "version_minor": 0
      },
      "text/plain": [
       "Training:   0%|          | 0/4 [00:00<?, ?it/s]"
      ]
     },
     "metadata": {},
     "output_type": "display_data"
    },
    {
     "data": {
      "application/vnd.jupyter.widget-view+json": {
       "model_id": "656fa821cb954d34b291b0f08ffbc944",
       "version_major": 2,
       "version_minor": 0
      },
      "text/plain": [
       "Validation:   0%|          | 0/1 [00:00<?, ?it/s]"
      ]
     },
     "metadata": {},
     "output_type": "display_data"
    },
    {
     "name": "stdout",
     "output_type": "stream",
     "text": [
      "Epoch 29/30 | Train Loss : 0.1587 | Val Loss : 0.6851\n"
     ]
    },
    {
     "data": {
      "application/vnd.jupyter.widget-view+json": {
       "model_id": "fba1e618e86d48fe872900ebe43d75cd",
       "version_major": 2,
       "version_minor": 0
      },
      "text/plain": [
       "Training:   0%|          | 0/4 [00:00<?, ?it/s]"
      ]
     },
     "metadata": {},
     "output_type": "display_data"
    },
    {
     "data": {
      "application/vnd.jupyter.widget-view+json": {
       "model_id": "8dd16f95054e4021b0305e594bce10c8",
       "version_major": 2,
       "version_minor": 0
      },
      "text/plain": [
       "Validation:   0%|          | 0/1 [00:00<?, ?it/s]"
      ]
     },
     "metadata": {},
     "output_type": "display_data"
    },
    {
     "name": "stdout",
     "output_type": "stream",
     "text": [
      "Epoch 30/30 | Train Loss : 0.1778 | Val Loss : 0.6848\n",
      "학습완료\n"
     ]
    },
    {
     "data": {
      "image/png": "[encoded data removed]",
      "text/plain": [
       "<Figure size 1000x500 with 1 Axes>"
      ]
     },
     "metadata": {},
     "output_type": "display_data"
    }
   ],
   "source": [
    "# --- 2. 모델학습 준비--- \n",
    "# GPU 사용설정\n",
    "device = 'cuda' if torch.cuda.is_available() else 'cpu'\n",
    "\n",
    "# 학습데이터 : 검증데이터 = 8 : 2\n",
    "train_df, val_df = train_test_split(df, test_size=0.2, random_state = 42)\n",
    "\n",
    "# 사전학슴된 CLIP 모델 및 프로세서 불러오기\n",
    "model = CLIPModel.from_pretrained('openai/clip-vit-base-patch32').to(device)\n",
    "processor = CLIPProcessor.from_pretrained('openai/clip-vit-base-patch32')\n",
    "\n",
    "# 레이어 동결\n",
    "for name, param in model.named_parameters():\n",
    "    if 'vision_model' in name or 'text_model' in name:\n",
    "        param.requires_grad = False # 해당 파라미터는 기울기 계산 x\n",
    "\n",
    "# 데이터셋 로드\n",
    "# train\n",
    "train_dataset = ImageCaptionDataset(train_df, processor) # dataset : 모델 입력값\n",
    "train_dataloader = DataLoader(train_dataset, batch_size = 20, shuffle = True)\n",
    "# val\n",
    "val_dataset = ImageCaptionDataset(val_df, processor)\n",
    "val_dataloader = DataLoader(val_dataset, batch_size = 20, shuffle = True)\n",
    "\n",
    "# 학습시킬 파라미터만 필터링\n",
    "params_to_update = [p for p in model.parameters() if p.requires_grad]\n",
    "\n",
    "# 옵티마이저 설정\n",
    "optimizer = AdamW(params_to_update, lr = 5e-6)\n",
    "num_epochs = 30\n",
    "\n",
    "# 조기종료 설정\n",
    "patience = 5 # 참을성, 5epoch동안 성능 개선이 없으면 중단\n",
    "patience_counter = 0 # 참을성 카운터\n",
    "best_val_loss = np.inf # 가장 성능좋은 검증 손실을 찾기위해 무한대로 초기화 지정\n",
    "\n",
    "# --- 3. 학습 및 검증 로직 구현 ---\n",
    "train_losses = []\n",
    "val_losses = []\n",
    "\n",
    "for epoch in tqdm(range(num_epochs), desc = 'Epochs'):\n",
    "    # --- 학습 부분 ---\n",
    "    model.train() # 모델 학습 모드 설정\n",
    "    total_train_loss = 0\n",
    "    \n",
    "    for batch in tqdm(train_dataloader, desc = 'Training', leave = False) :\n",
    "        # 배치 데이터를 device로 이동\n",
    "        batch = {k:v.to(device) for k, v in batch.items()} # dataset의 'pixel_values', 'input_ids', 'attention_mask'가 key값이고, pytorch tensor가 value 값\n",
    "\n",
    "        # 모델에 입력을 전달하여 출력과 손실(loss)을 계산\n",
    "        # huggingface CLIPModel은 입력을 위와 같이 구성(딕셔너리 자료형태 batch)하면 contrasive loss가 자동으로 계산\n",
    "        outputs = model(**batch, return_loss = True)\n",
    "        loss = outputs.loss\n",
    "\n",
    "        # 역전파\n",
    "        loss.backward()\n",
    "        optimizer.step() # 파리머터 업데이트\n",
    "        optimizer.zero_grad() # 기울기 초기화 : 다음 파라미터 업데이트에 영향을 주지 않도록 새로운 계산을 위해 기울기를 0으로 초기화\n",
    "\n",
    "        total_train_loss += loss.item() \n",
    "        \n",
    "    avg_train_loss = total_train_loss / len(train_dataloader)\n",
    "    train_losses.append(avg_train_loss) # 학습 epoch에 따른 loss 경과 저장\n",
    "\n",
    "    # --- 검증 부분 ---\n",
    "    model.eval() # 모델 평가 모드 설정\n",
    "    total_val_loss = 0\n",
    "    with torch.no_grad() : # 그래디언트 계산 비활성화 (테스트 시에는 모델 가중치 업데이트 안하니까)\n",
    "        for batch in tqdm(val_dataloader, desc = 'Validation', leave = False) : \n",
    "            batch = {k:v.to(device) for k, v in batch.items()}\n",
    "            outputs = model(**batch, return_loss = True)\n",
    "            loss = outputs.loss\n",
    "\n",
    "            total_val_loss += loss.item()\n",
    "    avg_val_loss = total_val_loss / len(val_dataloader)\n",
    "    val_losses.append(avg_val_loss)\n",
    "\n",
    "    print(f\"Epoch {epoch + 1}/{num_epochs} | Train Loss : {avg_train_loss:.4f} | Val Loss : {avg_val_loss:.4f}\")\n",
    "\n",
    "    # 조기종료 로직\n",
    "    if avg_val_loss < best_val_loss : # 성능개선이 되면\n",
    "        best_val_loss = avg_val_loss\n",
    "        patience_counter = 0 # 참을성 카운터 초기화\n",
    "    else : # 성능개선 안되면\n",
    "        patience_counter += 1 # 참을성 카운터 1 증가\n",
    "\n",
    "    if patience_counter >= patience : # 참을성 카운터가 한계에 도달하면\n",
    "        print('Early stopping triggered')\n",
    "        break\n",
    "\n",
    "\n",
    "\n",
    "print('학습완료')\n",
    "\n",
    "# --- 4. 검증 시각화 --- \n",
    "\n",
    "plt.figure(figsize = (10, 5))\n",
    "plt.plot(train_losses, label = 'Training Loss')\n",
    "plt.plot(val_losses, label = 'Validation Loss')\n",
    "plt.title('Training - Validation Loss')\n",
    "plt.xlabel('Epoch')\n",
    "plt.ylabel('Loss')\n",
    "plt.legend()\n",
    "plt.show()"
   ]
  },
  {
   "cell_type": "code",
   "execution_count": null,
   "id": "ccc12cb8-e299-4b0d-a5b4-b6c49f0aad88",
   "metadata": {},
   "outputs": [],
   "source": []
  },
  {
   "cell_type": "code",
   "execution_count": null,
   "id": "08573f5f-d180-4c5b-a86a-db24e6c6af86",
   "metadata": {},
   "outputs": [],
   "source": []
  },
  {
   "cell_type": "code",
   "execution_count": null,
   "id": "b3efa30c-4126-4427-95a5-78d33562a172",
   "metadata": {},
   "outputs": [],
   "source": []
  },
  {
   "cell_type": "code",
   "execution_count": null,
   "id": "21034622-a1ad-4e38-8a2d-f175ef75a647",
   "metadata": {},
   "outputs": [],
   "source": []
  },
  {
   "cell_type": "code",
   "execution_count": null,
   "id": "1c1ecd22-f18b-4b20-b26c-43df867e90ed",
   "metadata": {},
   "outputs": [],
   "source": []
  },
  {
   "cell_type": "code",
   "execution_count": null,
   "id": "257cf1e1-7c70-40a9-9a4a-bd248b0b8979",
   "metadata": {},
   "outputs": [],
   "source": []
  }
 ],
 "metadata": {
  "kernelspec": {
   "display_name": "Python 3 (ipykernel)",
   "language": "python",
   "name": "python3"
  },
  "language_info": {
   "codemirror_mode": {
    "name": "ipython",
    "version": 3
   },
   "file_extension": ".py",
   "mimetype": "text/x-python",
   "name": "python",
   "nbconvert_exporter": "python",
   "pygments_lexer": "ipython3",
   "version": "3.13.5"
  }
 },
 "nbformat": 4,
 "nbformat_minor": 5
}
