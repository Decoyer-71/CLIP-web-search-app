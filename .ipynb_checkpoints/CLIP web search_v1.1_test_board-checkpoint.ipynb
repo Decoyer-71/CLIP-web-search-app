{
 "cells": [
  {
   "cell_type": "markdown",
   "id": "28a4b735-2b76-4fee-a8c8-f5d3fb169ff7",
   "metadata": {},
   "source": [
    "# 1. model_transfer_train.py"
   ]
  },
  {
   "cell_type": "code",
   "execution_count": 1,
   "id": "88d93c91-fd71-4f65-85c5-e0e304b59d09",
   "metadata": {},
   "outputs": [],
   "source": [
    "import pandas as pd\n",
    "import numpy as np\n",
    "import os, glob\n",
    "from PIL import Image"
   ]
  },
  {
   "cell_type": "markdown",
   "id": "0e4e6628-059e-4c30-9e5c-74ecf03abdfe",
   "metadata": {},
   "source": [
    "## 1) 데이터 준비\n",
    "- v1.0에서 사용한 50개 데이터에 행동, 색상, 실제사진, 게임, 캐릭터 등의 세부 구분을 확인하기 위한 50개 데이터 추가로 확보\n",
    "- 100개의 이미지 데이터에 모두 caption을 연결해 전이학습용 데이터로 준비\n",
    "- 별도 번역 환경(tranlator_env)에서 데이터셋 준비"
   ]
  },
  {
   "cell_type": "code",
   "execution_count": 2,
   "id": "3d749dd7-30ee-4a57-9541-372f6d3aa619",
   "metadata": {
    "scrolled": true
   },
   "outputs": [],
   "source": [
    "# caption csv 불러오기\n",
    "image_path = os.path.join(os.getcwd() + '\\\\images2')\n",
    "csv_path = os.getcwd()\n",
    "caption_df = pd.read_csv(os.path.join(csv_path) + '\\\\image_to_text_en.csv')\n",
    "\n",
    "# image_path 불러온 후 데이터프레임 형성\n",
    "image_path = os.path.join(os.getcwd() + '\\\\images2')\n",
    "image_path_list = glob.glob(os.path.join(image_path + '/*.*'))\n",
    "idx_list = [p.split('\\\\')[-1].split('.')[0] for p in image_path_list]\n",
    "path_df = pd.DataFrame(\n",
    "    {\n",
    "        'idx' : idx_list,\n",
    "        'image_path' : image_path_list\n",
    "    }\n",
    ")\n",
    "path_df['idx'] = path_df['idx'].astype('int') # pd.merge를 위한 타입 맞추기\n",
    "\n",
    "# cation과 image_path_list 합체\n",
    "df = pd.merge(caption_df, path_df, how = 'inner', on = 'idx')\n",
    "df.set_index('idx', inplace = True)"
   ]
  },
  {
   "cell_type": "markdown",
   "id": "1a05f5bd-58c9-4927-9e39-a988758dd2cd",
   "metadata": {},
   "source": [
    "## 커스텀 데이터셋 클래스 정의"
   ]
  },
  {
   "cell_type": "code",
   "execution_count": 3,
   "id": "53206e1b-ab17-45b2-bddd-1611982ec83e",
   "metadata": {},
   "outputs": [],
   "source": [
    "import torch\n",
    "from torch.utils.data import Dataset, DataLoader\n",
    "from transformers import CLIPProcessor, CLIPModel\n",
    "from torch.optim import AdamW\n",
    "from sklearn.model_selection import train_test_split\n",
    "import matplotlib.pyplot as plt\n",
    "\n",
    "from tqdm.notebook import tqdm"
   ]
  },
  {
   "cell_type": "code",
   "execution_count": 4,
   "id": "cf44c105-30e2-4c90-8728-b8932cc0dd6c",
   "metadata": {},
   "outputs": [],
   "source": [
    "# --- 1. pytorch에서 Dataset클래스 상속받아 커스텀데이터셋 만들기---\n",
    "class ImageCaptionDataset(Dataset):\n",
    "    def __init__(self, df, processor, image_base_path = ''):\n",
    "        self.df = df\n",
    "        self.processor = processor\n",
    "        self.image_base_path = image_base_path\n",
    "\n",
    "    def __len__(self):\n",
    "        return len(self.df)\n",
    "\n",
    "    def __getitem__(self, idx):\n",
    "        row = self.df.iloc[idx]\n",
    "        image_path = f\"{self.image_base_path}{row['image_path']}\"\n",
    "        image = Image.open(image_path).convert('RGB') # 이미지 파일을 통일하기위해 RGB로 CONVERT(정규화 개념 - CLIP모델 입력 기대값은 RGB(3개 채널)이다.)\n",
    "        caption = row['caption_en']\n",
    "\n",
    "        # 프로세서로 이미지와 텍스트 임베딩 처리\n",
    "        inputs = self.processor(text = caption, \n",
    "                                images = image, \n",
    "                                return_tensors = 'pt',\n",
    "                                padding = 'max_length',\n",
    "                                truncation = True)\n",
    "        \n",
    "        # DataLoader에서 배치로 묶기 위채 차원 정리\n",
    "        inputs['input_ids'] = inputs['input_ids'].squeeze(0)\n",
    "        inputs['attention_mask'] = inputs['attention_mask'].squeeze(0)\n",
    "        inputs['pixel_values'] = inputs['pixel_values'].squeeze(0)\n",
    "\n",
    "        return inputs"
   ]
  },
  {
   "cell_type": "code",
   "execution_count": 16,
   "id": "958ce35f-f315-4511-b8d5-f4edbbe8e736",
   "metadata": {
    "scrolled": true
   },
   "outputs": [
    {
     "data": {
      "application/vnd.jupyter.widget-view+json": {
       "model_id": "5a875487df6c4e5e9c9b51330970abd6",
       "version_major": 2,
       "version_minor": 0
      },
      "text/plain": [
       "Epochs:   0%|          | 0/30 [00:00<?, ?it/s]"
      ]
     },
     "metadata": {},
     "output_type": "display_data"
    },
    {
     "data": {
      "application/vnd.jupyter.widget-view+json": {
       "model_id": "4c3e57ac4c2d4552be58e409182dbea2",
       "version_major": 2,
       "version_minor": 0
      },
      "text/plain": [
       "Training:   0%|          | 0/4 [00:00<?, ?it/s]"
      ]
     },
     "metadata": {},
     "output_type": "display_data"
    },
    {
     "data": {
      "application/vnd.jupyter.widget-view+json": {
       "model_id": "357598069e5c41479f6df8e8da86dc03",
       "version_major": 2,
       "version_minor": 0
      },
      "text/plain": [
       "Validation:   0%|          | 0/1 [00:00<?, ?it/s]"
      ]
     },
     "metadata": {},
     "output_type": "display_data"
    },
    {
     "name": "stdout",
     "output_type": "stream",
     "text": [
      "Epoch 1/30 | Train Loss : 0.7239 | Val Loss : 0.6321\n"
     ]
    },
    {
     "data": {
      "application/vnd.jupyter.widget-view+json": {
       "model_id": "5b8f644d23b84925928f637898c6ab1a",
       "version_major": 2,
       "version_minor": 0
      },
      "text/plain": [
       "Training:   0%|          | 0/4 [00:00<?, ?it/s]"
      ]
     },
     "metadata": {},
     "output_type": "display_data"
    },
    {
     "data": {
      "application/vnd.jupyter.widget-view+json": {
       "model_id": "6b572fe73a1d448fa3be66c81e0143a6",
       "version_major": 2,
       "version_minor": 0
      },
      "text/plain": [
       "Validation:   0%|          | 0/1 [00:00<?, ?it/s]"
      ]
     },
     "metadata": {},
     "output_type": "display_data"
    },
    {
     "name": "stdout",
     "output_type": "stream",
     "text": [
      "Epoch 2/30 | Train Loss : 0.1779 | Val Loss : 0.5998\n"
     ]
    },
    {
     "data": {
      "application/vnd.jupyter.widget-view+json": {
       "model_id": "565171d8219e465780dacbeb88cec182",
       "version_major": 2,
       "version_minor": 0
      },
      "text/plain": [
       "Training:   0%|          | 0/4 [00:00<?, ?it/s]"
      ]
     },
     "metadata": {},
     "output_type": "display_data"
    },
    {
     "data": {
      "application/vnd.jupyter.widget-view+json": {
       "model_id": "363c3c9ac85241ac9c86b0a12c06a4e1",
       "version_major": 2,
       "version_minor": 0
      },
      "text/plain": [
       "Validation:   0%|          | 0/1 [00:00<?, ?it/s]"
      ]
     },
     "metadata": {},
     "output_type": "display_data"
    },
    {
     "name": "stdout",
     "output_type": "stream",
     "text": [
      "Epoch 3/30 | Train Loss : 0.1337 | Val Loss : 0.5947\n"
     ]
    },
    {
     "data": {
      "application/vnd.jupyter.widget-view+json": {
       "model_id": "d3cd55d42c304dfb968692b53f7f2d6b",
       "version_major": 2,
       "version_minor": 0
      },
      "text/plain": [
       "Training:   0%|          | 0/4 [00:00<?, ?it/s]"
      ]
     },
     "metadata": {},
     "output_type": "display_data"
    },
    {
     "data": {
      "application/vnd.jupyter.widget-view+json": {
       "model_id": "fef24ed6e3654474a8f07715fe51ac39",
       "version_major": 2,
       "version_minor": 0
      },
      "text/plain": [
       "Validation:   0%|          | 0/1 [00:00<?, ?it/s]"
      ]
     },
     "metadata": {},
     "output_type": "display_data"
    },
    {
     "name": "stdout",
     "output_type": "stream",
     "text": [
      "Epoch 4/30 | Train Loss : 0.0390 | Val Loss : 0.5667\n"
     ]
    },
    {
     "data": {
      "application/vnd.jupyter.widget-view+json": {
       "model_id": "915083f4332c4b9fa15c001d49ec1de2",
       "version_major": 2,
       "version_minor": 0
      },
      "text/plain": [
       "Training:   0%|          | 0/4 [00:00<?, ?it/s]"
      ]
     },
     "metadata": {},
     "output_type": "display_data"
    },
    {
     "data": {
      "application/vnd.jupyter.widget-view+json": {
       "model_id": "d40cdfb8b75049939aa7b485a978baa5",
       "version_major": 2,
       "version_minor": 0
      },
      "text/plain": [
       "Validation:   0%|          | 0/1 [00:00<?, ?it/s]"
      ]
     },
     "metadata": {},
     "output_type": "display_data"
    },
    {
     "name": "stdout",
     "output_type": "stream",
     "text": [
      "Epoch 5/30 | Train Loss : 0.0416 | Val Loss : 0.5682\n"
     ]
    },
    {
     "data": {
      "application/vnd.jupyter.widget-view+json": {
       "model_id": "09bb6eb7eb4e4faf876c1f878876ffec",
       "version_major": 2,
       "version_minor": 0
      },
      "text/plain": [
       "Training:   0%|          | 0/4 [00:00<?, ?it/s]"
      ]
     },
     "metadata": {},
     "output_type": "display_data"
    },
    {
     "data": {
      "application/vnd.jupyter.widget-view+json": {
       "model_id": "3d4ed3f370c1489dba99cf9d036cac15",
       "version_major": 2,
       "version_minor": 0
      },
      "text/plain": [
       "Validation:   0%|          | 0/1 [00:00<?, ?it/s]"
      ]
     },
     "metadata": {},
     "output_type": "display_data"
    },
    {
     "name": "stdout",
     "output_type": "stream",
     "text": [
      "Epoch 6/30 | Train Loss : 0.0358 | Val Loss : 0.5709\n"
     ]
    },
    {
     "data": {
      "application/vnd.jupyter.widget-view+json": {
       "model_id": "52a525257d254f87bbea6738b35226b3",
       "version_major": 2,
       "version_minor": 0
      },
      "text/plain": [
       "Training:   0%|          | 0/4 [00:00<?, ?it/s]"
      ]
     },
     "metadata": {},
     "output_type": "display_data"
    },
    {
     "data": {
      "application/vnd.jupyter.widget-view+json": {
       "model_id": "6793e530c9dd4b35b98942dac26ad473",
       "version_major": 2,
       "version_minor": 0
      },
      "text/plain": [
       "Validation:   0%|          | 0/1 [00:00<?, ?it/s]"
      ]
     },
     "metadata": {},
     "output_type": "display_data"
    },
    {
     "name": "stdout",
     "output_type": "stream",
     "text": [
      "Epoch 7/30 | Train Loss : 0.0124 | Val Loss : 0.5688\n"
     ]
    },
    {
     "data": {
      "application/vnd.jupyter.widget-view+json": {
       "model_id": "c283479f9088434d8f77beac595f2776",
       "version_major": 2,
       "version_minor": 0
      },
      "text/plain": [
       "Training:   0%|          | 0/4 [00:00<?, ?it/s]"
      ]
     },
     "metadata": {},
     "output_type": "display_data"
    },
    {
     "data": {
      "application/vnd.jupyter.widget-view+json": {
       "model_id": "4d8736defe754a1592a793ee2d953bb8",
       "version_major": 2,
       "version_minor": 0
      },
      "text/plain": [
       "Validation:   0%|          | 0/1 [00:00<?, ?it/s]"
      ]
     },
     "metadata": {},
     "output_type": "display_data"
    },
    {
     "name": "stdout",
     "output_type": "stream",
     "text": [
      "Epoch 8/30 | Train Loss : 0.0244 | Val Loss : 0.5543\n"
     ]
    },
    {
     "data": {
      "application/vnd.jupyter.widget-view+json": {
       "model_id": "c82c3762b787481aa6ee82bf44cb423c",
       "version_major": 2,
       "version_minor": 0
      },
      "text/plain": [
       "Training:   0%|          | 0/4 [00:00<?, ?it/s]"
      ]
     },
     "metadata": {},
     "output_type": "display_data"
    },
    {
     "data": {
      "application/vnd.jupyter.widget-view+json": {
       "model_id": "0fd35aa684504af5b7ea68684ce28719",
       "version_major": 2,
       "version_minor": 0
      },
      "text/plain": [
       "Validation:   0%|          | 0/1 [00:00<?, ?it/s]"
      ]
     },
     "metadata": {},
     "output_type": "display_data"
    },
    {
     "name": "stdout",
     "output_type": "stream",
     "text": [
      "Epoch 9/30 | Train Loss : 0.0053 | Val Loss : 0.5415\n"
     ]
    },
    {
     "data": {
      "application/vnd.jupyter.widget-view+json": {
       "model_id": "4989da643b7c4e1b9b4f9ac3b1f1a8e4",
       "version_major": 2,
       "version_minor": 0
      },
      "text/plain": [
       "Training:   0%|          | 0/4 [00:00<?, ?it/s]"
      ]
     },
     "metadata": {},
     "output_type": "display_data"
    },
    {
     "data": {
      "application/vnd.jupyter.widget-view+json": {
       "model_id": "c688c62dc1c84e3194162f1e3e0ff74d",
       "version_major": 2,
       "version_minor": 0
      },
      "text/plain": [
       "Validation:   0%|          | 0/1 [00:00<?, ?it/s]"
      ]
     },
     "metadata": {},
     "output_type": "display_data"
    },
    {
     "name": "stdout",
     "output_type": "stream",
     "text": [
      "Epoch 10/30 | Train Loss : 0.0796 | Val Loss : 0.5278\n"
     ]
    },
    {
     "data": {
      "application/vnd.jupyter.widget-view+json": {
       "model_id": "3bfbb4ff30da41899735074cb0551282",
       "version_major": 2,
       "version_minor": 0
      },
      "text/plain": [
       "Training:   0%|          | 0/4 [00:00<?, ?it/s]"
      ]
     },
     "metadata": {},
     "output_type": "display_data"
    },
    {
     "data": {
      "application/vnd.jupyter.widget-view+json": {
       "model_id": "a2a5fa3fbe1048f3a306f04ea4db83b3",
       "version_major": 2,
       "version_minor": 0
      },
      "text/plain": [
       "Validation:   0%|          | 0/1 [00:00<?, ?it/s]"
      ]
     },
     "metadata": {},
     "output_type": "display_data"
    },
    {
     "name": "stdout",
     "output_type": "stream",
     "text": [
      "Epoch 11/30 | Train Loss : 0.0127 | Val Loss : 0.5198\n"
     ]
    },
    {
     "data": {
      "application/vnd.jupyter.widget-view+json": {
       "model_id": "b47c651142be404ab49555c6e318c53d",
       "version_major": 2,
       "version_minor": 0
      },
      "text/plain": [
       "Training:   0%|          | 0/4 [00:00<?, ?it/s]"
      ]
     },
     "metadata": {},
     "output_type": "display_data"
    },
    {
     "data": {
      "application/vnd.jupyter.widget-view+json": {
       "model_id": "50234aa4c1a84db09cf18c4d41a74c65",
       "version_major": 2,
       "version_minor": 0
      },
      "text/plain": [
       "Validation:   0%|          | 0/1 [00:00<?, ?it/s]"
      ]
     },
     "metadata": {},
     "output_type": "display_data"
    },
    {
     "name": "stdout",
     "output_type": "stream",
     "text": [
      "Epoch 12/30 | Train Loss : 0.0420 | Val Loss : 0.5106\n"
     ]
    },
    {
     "data": {
      "application/vnd.jupyter.widget-view+json": {
       "model_id": "2d443488271d4b5a954ed18e668cde9d",
       "version_major": 2,
       "version_minor": 0
      },
      "text/plain": [
       "Training:   0%|          | 0/4 [00:00<?, ?it/s]"
      ]
     },
     "metadata": {},
     "output_type": "display_data"
    },
    {
     "data": {
      "application/vnd.jupyter.widget-view+json": {
       "model_id": "ef4903b176974882b2825a95eaae8080",
       "version_major": 2,
       "version_minor": 0
      },
      "text/plain": [
       "Validation:   0%|          | 0/1 [00:00<?, ?it/s]"
      ]
     },
     "metadata": {},
     "output_type": "display_data"
    },
    {
     "name": "stdout",
     "output_type": "stream",
     "text": [
      "Epoch 13/30 | Train Loss : 0.0044 | Val Loss : 0.5006\n"
     ]
    },
    {
     "data": {
      "application/vnd.jupyter.widget-view+json": {
       "model_id": "e7498e1b5fdd4040bf8a85656d05956a",
       "version_major": 2,
       "version_minor": 0
      },
      "text/plain": [
       "Training:   0%|          | 0/4 [00:00<?, ?it/s]"
      ]
     },
     "metadata": {},
     "output_type": "display_data"
    },
    {
     "data": {
      "application/vnd.jupyter.widget-view+json": {
       "model_id": "da0a04eae7eb4e32be9005e0e5814c0a",
       "version_major": 2,
       "version_minor": 0
      },
      "text/plain": [
       "Validation:   0%|          | 0/1 [00:00<?, ?it/s]"
      ]
     },
     "metadata": {},
     "output_type": "display_data"
    },
    {
     "name": "stdout",
     "output_type": "stream",
     "text": [
      "Epoch 14/30 | Train Loss : 0.0047 | Val Loss : 0.4920\n"
     ]
    },
    {
     "data": {
      "application/vnd.jupyter.widget-view+json": {
       "model_id": "0729d42699bb445b8e984d71f8b6ba1e",
       "version_major": 2,
       "version_minor": 0
      },
      "text/plain": [
       "Training:   0%|          | 0/4 [00:00<?, ?it/s]"
      ]
     },
     "metadata": {},
     "output_type": "display_data"
    },
    {
     "data": {
      "application/vnd.jupyter.widget-view+json": {
       "model_id": "717b21957fee40408d6de5b9c52d6c23",
       "version_major": 2,
       "version_minor": 0
      },
      "text/plain": [
       "Validation:   0%|          | 0/1 [00:00<?, ?it/s]"
      ]
     },
     "metadata": {},
     "output_type": "display_data"
    },
    {
     "name": "stdout",
     "output_type": "stream",
     "text": [
      "Epoch 15/30 | Train Loss : 0.0516 | Val Loss : 0.4864\n"
     ]
    },
    {
     "data": {
      "application/vnd.jupyter.widget-view+json": {
       "model_id": "8a6be1350d6742f7a4e498c8fe60455e",
       "version_major": 2,
       "version_minor": 0
      },
      "text/plain": [
       "Training:   0%|          | 0/4 [00:00<?, ?it/s]"
      ]
     },
     "metadata": {},
     "output_type": "display_data"
    },
    {
     "data": {
      "application/vnd.jupyter.widget-view+json": {
       "model_id": "4f0e253bf93943dabffb9b9336ffec56",
       "version_major": 2,
       "version_minor": 0
      },
      "text/plain": [
       "Validation:   0%|          | 0/1 [00:00<?, ?it/s]"
      ]
     },
     "metadata": {},
     "output_type": "display_data"
    },
    {
     "name": "stdout",
     "output_type": "stream",
     "text": [
      "Epoch 16/30 | Train Loss : 0.0019 | Val Loss : 0.4858\n"
     ]
    },
    {
     "data": {
      "application/vnd.jupyter.widget-view+json": {
       "model_id": "0e19129c31d8420ca19f432dd94b5e68",
       "version_major": 2,
       "version_minor": 0
      },
      "text/plain": [
       "Training:   0%|          | 0/4 [00:00<?, ?it/s]"
      ]
     },
     "metadata": {},
     "output_type": "display_data"
    },
    {
     "data": {
      "application/vnd.jupyter.widget-view+json": {
       "model_id": "883ae227266f429e8bdd68901be32c28",
       "version_major": 2,
       "version_minor": 0
      },
      "text/plain": [
       "Validation:   0%|          | 0/1 [00:00<?, ?it/s]"
      ]
     },
     "metadata": {},
     "output_type": "display_data"
    },
    {
     "name": "stdout",
     "output_type": "stream",
     "text": [
      "Epoch 17/30 | Train Loss : 0.0027 | Val Loss : 0.4890\n"
     ]
    },
    {
     "data": {
      "application/vnd.jupyter.widget-view+json": {
       "model_id": "211539a6bf1a45a48ccfe76c131e3e30",
       "version_major": 2,
       "version_minor": 0
      },
      "text/plain": [
       "Training:   0%|          | 0/4 [00:00<?, ?it/s]"
      ]
     },
     "metadata": {},
     "output_type": "display_data"
    },
    {
     "data": {
      "application/vnd.jupyter.widget-view+json": {
       "model_id": "4596098eeaa64eb9a0b8d4b83d7abfa9",
       "version_major": 2,
       "version_minor": 0
      },
      "text/plain": [
       "Validation:   0%|          | 0/1 [00:00<?, ?it/s]"
      ]
     },
     "metadata": {},
     "output_type": "display_data"
    },
    {
     "name": "stdout",
     "output_type": "stream",
     "text": [
      "Epoch 18/30 | Train Loss : 0.0052 | Val Loss : 0.4893\n"
     ]
    },
    {
     "data": {
      "application/vnd.jupyter.widget-view+json": {
       "model_id": "3b0e3bec865340159a3dbb35b32b13e4",
       "version_major": 2,
       "version_minor": 0
      },
      "text/plain": [
       "Training:   0%|          | 0/4 [00:00<?, ?it/s]"
      ]
     },
     "metadata": {},
     "output_type": "display_data"
    },
    {
     "data": {
      "application/vnd.jupyter.widget-view+json": {
       "model_id": "77b9cdd20fff425eb3407415084a184b",
       "version_major": 2,
       "version_minor": 0
      },
      "text/plain": [
       "Validation:   0%|          | 0/1 [00:00<?, ?it/s]"
      ]
     },
     "metadata": {},
     "output_type": "display_data"
    },
    {
     "name": "stdout",
     "output_type": "stream",
     "text": [
      "Epoch 19/30 | Train Loss : 0.0266 | Val Loss : 0.4877\n"
     ]
    },
    {
     "data": {
      "application/vnd.jupyter.widget-view+json": {
       "model_id": "77f6b780a2c848d4a9fdf2b727529bca",
       "version_major": 2,
       "version_minor": 0
      },
      "text/plain": [
       "Training:   0%|          | 0/4 [00:00<?, ?it/s]"
      ]
     },
     "metadata": {},
     "output_type": "display_data"
    },
    {
     "data": {
      "application/vnd.jupyter.widget-view+json": {
       "model_id": "5aa68d4199b5439191117928b8dbf2f2",
       "version_major": 2,
       "version_minor": 0
      },
      "text/plain": [
       "Validation:   0%|          | 0/1 [00:00<?, ?it/s]"
      ]
     },
     "metadata": {},
     "output_type": "display_data"
    },
    {
     "name": "stdout",
     "output_type": "stream",
     "text": [
      "Epoch 20/30 | Train Loss : 0.0198 | Val Loss : 0.4878\n"
     ]
    },
    {
     "data": {
      "application/vnd.jupyter.widget-view+json": {
       "model_id": "345eb3879cff40e08c5643e3547b2b66",
       "version_major": 2,
       "version_minor": 0
      },
      "text/plain": [
       "Training:   0%|          | 0/4 [00:00<?, ?it/s]"
      ]
     },
     "metadata": {},
     "output_type": "display_data"
    },
    {
     "data": {
      "application/vnd.jupyter.widget-view+json": {
       "model_id": "8ed84d003d024b69bb1703b82c8281de",
       "version_major": 2,
       "version_minor": 0
      },
      "text/plain": [
       "Validation:   0%|          | 0/1 [00:00<?, ?it/s]"
      ]
     },
     "metadata": {},
     "output_type": "display_data"
    },
    {
     "name": "stdout",
     "output_type": "stream",
     "text": [
      "Epoch 21/30 | Train Loss : 0.0008 | Val Loss : 0.4874\n"
     ]
    },
    {
     "data": {
      "application/vnd.jupyter.widget-view+json": {
       "model_id": "e010375dbe2240569d586315bf08ad9f",
       "version_major": 2,
       "version_minor": 0
      },
      "text/plain": [
       "Training:   0%|          | 0/4 [00:00<?, ?it/s]"
      ]
     },
     "metadata": {},
     "output_type": "display_data"
    },
    {
     "data": {
      "application/vnd.jupyter.widget-view+json": {
       "model_id": "3b82e244dcf04dd1b08153f494a98b3a",
       "version_major": 2,
       "version_minor": 0
      },
      "text/plain": [
       "Validation:   0%|          | 0/1 [00:00<?, ?it/s]"
      ]
     },
     "metadata": {},
     "output_type": "display_data"
    },
    {
     "name": "stdout",
     "output_type": "stream",
     "text": [
      "Epoch 22/30 | Train Loss : 0.0009 | Val Loss : 0.4875\n"
     ]
    },
    {
     "data": {
      "application/vnd.jupyter.widget-view+json": {
       "model_id": "7e6c21f72b1340069446d372bb262185",
       "version_major": 2,
       "version_minor": 0
      },
      "text/plain": [
       "Training:   0%|          | 0/4 [00:00<?, ?it/s]"
      ]
     },
     "metadata": {},
     "output_type": "display_data"
    },
    {
     "data": {
      "application/vnd.jupyter.widget-view+json": {
       "model_id": "21ab6b80597f4907b5999cea7b65ea9d",
       "version_major": 2,
       "version_minor": 0
      },
      "text/plain": [
       "Validation:   0%|          | 0/1 [00:00<?, ?it/s]"
      ]
     },
     "metadata": {},
     "output_type": "display_data"
    },
    {
     "name": "stdout",
     "output_type": "stream",
     "text": [
      "Epoch 23/30 | Train Loss : 0.0008 | Val Loss : 0.4880\n"
     ]
    },
    {
     "data": {
      "application/vnd.jupyter.widget-view+json": {
       "model_id": "a37da87d4d3f4246b2e16fdea1763bba",
       "version_major": 2,
       "version_minor": 0
      },
      "text/plain": [
       "Training:   0%|          | 0/4 [00:00<?, ?it/s]"
      ]
     },
     "metadata": {},
     "output_type": "display_data"
    },
    {
     "data": {
      "application/vnd.jupyter.widget-view+json": {
       "model_id": "26dfd99d2d214fe5ac5fc01c3d5c7968",
       "version_major": 2,
       "version_minor": 0
      },
      "text/plain": [
       "Validation:   0%|          | 0/1 [00:00<?, ?it/s]"
      ]
     },
     "metadata": {},
     "output_type": "display_data"
    },
    {
     "name": "stdout",
     "output_type": "stream",
     "text": [
      "Epoch 24/30 | Train Loss : 0.0008 | Val Loss : 0.4887\n"
     ]
    },
    {
     "data": {
      "application/vnd.jupyter.widget-view+json": {
       "model_id": "b3cc5d448bbe4a7286612b55bb9fd2ab",
       "version_major": 2,
       "version_minor": 0
      },
      "text/plain": [
       "Training:   0%|          | 0/4 [00:00<?, ?it/s]"
      ]
     },
     "metadata": {},
     "output_type": "display_data"
    },
    {
     "data": {
      "application/vnd.jupyter.widget-view+json": {
       "model_id": "9f435c3861414c93bb7ee30b9ac7cf38",
       "version_major": 2,
       "version_minor": 0
      },
      "text/plain": [
       "Validation:   0%|          | 0/1 [00:00<?, ?it/s]"
      ]
     },
     "metadata": {},
     "output_type": "display_data"
    },
    {
     "name": "stdout",
     "output_type": "stream",
     "text": [
      "Epoch 25/30 | Train Loss : 0.0009 | Val Loss : 0.4896\n"
     ]
    },
    {
     "data": {
      "application/vnd.jupyter.widget-view+json": {
       "model_id": "2906f976ad294bd19d1a7dec9345fca3",
       "version_major": 2,
       "version_minor": 0
      },
      "text/plain": [
       "Training:   0%|          | 0/4 [00:00<?, ?it/s]"
      ]
     },
     "metadata": {},
     "output_type": "display_data"
    },
    {
     "data": {
      "application/vnd.jupyter.widget-view+json": {
       "model_id": "05e77a62e6044b90aff2404da4f0242e",
       "version_major": 2,
       "version_minor": 0
      },
      "text/plain": [
       "Validation:   0%|          | 0/1 [00:00<?, ?it/s]"
      ]
     },
     "metadata": {},
     "output_type": "display_data"
    },
    {
     "name": "stdout",
     "output_type": "stream",
     "text": [
      "Epoch 26/30 | Train Loss : 0.0005 | Val Loss : 0.4904\n"
     ]
    },
    {
     "data": {
      "application/vnd.jupyter.widget-view+json": {
       "model_id": "9652bd85f29a42f4b45d594b1b9a9883",
       "version_major": 2,
       "version_minor": 0
      },
      "text/plain": [
       "Training:   0%|          | 0/4 [00:00<?, ?it/s]"
      ]
     },
     "metadata": {},
     "output_type": "display_data"
    },
    {
     "data": {
      "application/vnd.jupyter.widget-view+json": {
       "model_id": "cd3a1a18c90c4c879ba72edc6d2dd610",
       "version_major": 2,
       "version_minor": 0
      },
      "text/plain": [
       "Validation:   0%|          | 0/1 [00:00<?, ?it/s]"
      ]
     },
     "metadata": {},
     "output_type": "display_data"
    },
    {
     "name": "stdout",
     "output_type": "stream",
     "text": [
      "Epoch 27/30 | Train Loss : 0.0180 | Val Loss : 0.4911\n"
     ]
    },
    {
     "data": {
      "application/vnd.jupyter.widget-view+json": {
       "model_id": "c91a0931f39b4352bf11ec85b1895be5",
       "version_major": 2,
       "version_minor": 0
      },
      "text/plain": [
       "Training:   0%|          | 0/4 [00:00<?, ?it/s]"
      ]
     },
     "metadata": {},
     "output_type": "display_data"
    },
    {
     "data": {
      "application/vnd.jupyter.widget-view+json": {
       "model_id": "08ab3321a1f24d049a3ca7308e63b04d",
       "version_major": 2,
       "version_minor": 0
      },
      "text/plain": [
       "Validation:   0%|          | 0/1 [00:00<?, ?it/s]"
      ]
     },
     "metadata": {},
     "output_type": "display_data"
    },
    {
     "name": "stdout",
     "output_type": "stream",
     "text": [
      "Epoch 28/30 | Train Loss : 0.0009 | Val Loss : 0.4926\n"
     ]
    },
    {
     "data": {
      "application/vnd.jupyter.widget-view+json": {
       "model_id": "e6d80b8a19384e2a964f30286ae4a3fb",
       "version_major": 2,
       "version_minor": 0
      },
      "text/plain": [
       "Training:   0%|          | 0/4 [00:00<?, ?it/s]"
      ]
     },
     "metadata": {},
     "output_type": "display_data"
    },
    {
     "data": {
      "application/vnd.jupyter.widget-view+json": {
       "model_id": "ef537675a52e4a6db8044c66a3388259",
       "version_major": 2,
       "version_minor": 0
      },
      "text/plain": [
       "Validation:   0%|          | 0/1 [00:00<?, ?it/s]"
      ]
     },
     "metadata": {},
     "output_type": "display_data"
    },
    {
     "name": "stdout",
     "output_type": "stream",
     "text": [
      "Epoch 29/30 | Train Loss : 0.0003 | Val Loss : 0.4937\n"
     ]
    },
    {
     "data": {
      "application/vnd.jupyter.widget-view+json": {
       "model_id": "6c17ec392c424d64b6d7379c82ed8b25",
       "version_major": 2,
       "version_minor": 0
      },
      "text/plain": [
       "Training:   0%|          | 0/4 [00:00<?, ?it/s]"
      ]
     },
     "metadata": {},
     "output_type": "display_data"
    },
    {
     "data": {
      "application/vnd.jupyter.widget-view+json": {
       "model_id": "537336038b78434d9f960f2a897a7ae1",
       "version_major": 2,
       "version_minor": 0
      },
      "text/plain": [
       "Validation:   0%|          | 0/1 [00:00<?, ?it/s]"
      ]
     },
     "metadata": {},
     "output_type": "display_data"
    },
    {
     "name": "stdout",
     "output_type": "stream",
     "text": [
      "Epoch 30/30 | Train Loss : 0.0006 | Val Loss : 0.4949\n",
      "학습완료\n"
     ]
    },
    {
     "data": {
      "image/png": "[encoded data removed]",
      "text/plain": [
       "<Figure size 1000x500 with 1 Axes>"
      ]
     },
     "metadata": {},
     "output_type": "display_data"
    }
   ],
   "source": [
    "# --- 2. 모델학습 준비--- \n",
    "# GPU 사용설정\n",
    "device = 'cuda' if torch.cuda.is_available() else 'cpu'\n",
    "\n",
    "# 학습데이터 : 검증데이터 = 8 : 2\n",
    "train_df, val_df = train_test_split(df, test_size=0.2, random_state = 42)\n",
    "\n",
    "# 사전학슴된 CLIP 모델 및 프로세서 불러오기\n",
    "model = CLIPModel.from_pretrained('openai/clip-vit-base-patch32').to(device)\n",
    "processor = CLIPProcessor.from_pretrained('openai/clip-vit-base-patch32')\n",
    "\n",
    "# 데이터셋 로드\n",
    "# train\n",
    "train_dataset = ImageCaptionDataset(train_df, processor) # dataset : 모델 입력값\n",
    "train_dataloader = DataLoader(train_dataset, batch_size = 20, shuffle = True)\n",
    "# val\n",
    "val_dataset = ImageCaptionDataset(val_df, processor)\n",
    "val_dataloader = DataLoader(val_dataset, batch_size = 20, shuffle = True)\n",
    "\n",
    "# 옵티마이저 설정\n",
    "optimizer = AdamW(model.parameters(), lr = 5e-6)\n",
    "num_epochs = 30\n",
    "\n",
    "# --- 3. 학습 및 검증 로직 구현 ---\n",
    "train_losses = []\n",
    "val_losses = []\n",
    "\n",
    "for epoch in tqdm(range(num_epochs), desc = 'Epochs'):\n",
    "    # --- 학습 부분 ---\n",
    "    model.train() # 모델 학습 모드 설정\n",
    "    total_train_loss = 0\n",
    "    \n",
    "    for batch in tqdm(train_dataloader, desc = 'Training', leave = False) :\n",
    "        # 배치 데이터를 device로 이동\n",
    "        batch = {k:v.to(device) for k, v in batch.items()} # dataset의 'pixel_values', 'input_ids', 'attention_mask'가 key값이고, pytorch tensor가 value 값\n",
    "\n",
    "        # 모델에 입력을 전달하여 출력과 손실(loss)을 계산\n",
    "        # huggingface CLIPModel은 입력을 위와 같이 구성(딕셔너리 자료형태 batch)하면 contrasive loss가 자동으로 계산\n",
    "        outputs = model(**batch, return_loss = True)\n",
    "        loss = outputs.loss\n",
    "\n",
    "        # 역전파\n",
    "        loss.backward()\n",
    "        optimizer.step() # 파리머터 업데이트\n",
    "        optimizer.zero_grad() # 기울기 초기화 : 다음 파라미터 업데이트에 영향을 주지 않도록 새로운 계산을 위해 기울기를 0으로 초기화\n",
    "\n",
    "        total_train_loss += loss.item() \n",
    "        \n",
    "    avg_train_loss = total_train_loss / len(train_dataloader)\n",
    "    train_losses.append(avg_train_loss) # 학습 epoch에 따른 loss 경과 저장\n",
    "\n",
    "    # --- 검증 부분 ---\n",
    "    model.eval() # 모델 평가 모드 설정\n",
    "    total_val_loss = 0\n",
    "    with torch.no_grad() : # 그래디언트 계산 비활성화 (테스트 시에는 모델 가중치 업데이트 안하니까)\n",
    "        for batch in tqdm(val_dataloader, desc = 'Validation', leave = False) : \n",
    "            batch = {k:v.to(device) for k, v in batch.items()}\n",
    "            outputs = model(**batch, return_loss = True)\n",
    "            loss = outputs.loss\n",
    "\n",
    "            total_val_loss += loss.item()\n",
    "    avg_val_loss = total_val_loss / len(val_dataloader)\n",
    "    val_losses.append(avg_val_loss)\n",
    "\n",
    "    print(f\"Epoch {epoch + 1}/{num_epochs} | Train Loss : {avg_train_loss:.4f} | Val Loss : {avg_val_loss:.4f}\")\n",
    "\n",
    "\n",
    "print('학습완료')\n",
    "\n",
    "# --- 4. 검증 시각화 --- \n",
    "\n",
    "plt.figure(figsize = (10, 5))\n",
    "plt.plot(train_losses, label = 'Training Loss')\n",
    "plt.plot(val_losses, label = 'Validation Loss')\n",
    "plt.title('Training - Validation Loss')\n",
    "plt.xlabel('Epoch')\n",
    "plt.ylabel('Loss')\n",
    "plt.legend()\n",
    "plt.show()"
   ]
  },
  {
   "cell_type": "code",
   "execution_count": null,
   "id": "6dbbd4f9-3f91-4f35-ba9a-0f10333bbee5",
   "metadata": {},
   "outputs": [],
   "source": [
    "# --- 5. 파인튜닝 모델 저장 ---\n",
    "save_path = './clip_finetuned'\n",
    "model.save_pretrained(save_path)\n",
    "processor.save_pretrained(save_path)\n",
    "\n",
    "print(f'모델이 {save_path}에 저장되었습니다.')"
   ]
  },
  {
   "attachments": {
    "f4b6716e-d00e-4dff-8d94-2561ac4159dc.png": {
     "image/png": "[encoded data removed]"
    }
   },
   "cell_type": "markdown",
   "id": "644c23b6-3282-4a52-9422-89d19be9d3ff",
   "metadata": {},
   "source": [
    "### convert해주는 이유\n",
    "![image.png](attachment:f4b6716e-d00e-4dff-8d94-2561ac4159dc.png)"
   ]
  },
  {
   "attachments": {
    "436606f5-0217-438d-96dd-21c5bcf0aa2e.png": {
     "image/png": "[encoded data removed]"
    }
   },
   "cell_type": "markdown",
   "id": "aecac8c6-e1de-47c6-8451-d10b9ef14259",
   "metadata": {},
   "source": [
    "### squeeze하는 이유\n",
    "![image.png](attachment:436606f5-0217-438d-96dd-21c5bcf0aa2e.png)"
   ]
  },
  {
   "attachments": {
    "7c1afe6e-a16c-4985-8140-e8da78381344.png": {
     "image/png": "[encoded data removed]"
    }
   },
   "cell_type": "markdown",
   "id": "8b256045-09cc-4b33-bfae-1ae6882be0fa",
   "metadata": {},
   "source": [
    "### 모델학습에서 batch의 형태\n",
    "![image.png](attachment:7c1afe6e-a16c-4985-8140-e8da78381344.png)"
   ]
  },
  {
   "cell_type": "code",
   "execution_count": null,
   "id": "04498217-30fe-497c-b4e5-d6ef7798ac80",
   "metadata": {},
   "outputs": [],
   "source": []
  },
  {
   "cell_type": "code",
   "execution_count": null,
   "id": "ccc12cb8-e299-4b0d-a5b4-b6c49f0aad88",
   "metadata": {},
   "outputs": [],
   "source": []
  },
  {
   "cell_type": "code",
   "execution_count": null,
   "id": "08573f5f-d180-4c5b-a86a-db24e6c6af86",
   "metadata": {},
   "outputs": [],
   "source": []
  },
  {
   "cell_type": "code",
   "execution_count": null,
   "id": "b3efa30c-4126-4427-95a5-78d33562a172",
   "metadata": {},
   "outputs": [],
   "source": []
  },
  {
   "cell_type": "code",
   "execution_count": null,
   "id": "21034622-a1ad-4e38-8a2d-f175ef75a647",
   "metadata": {},
   "outputs": [],
   "source": []
  },
  {
   "cell_type": "code",
   "execution_count": null,
   "id": "1c1ecd22-f18b-4b20-b26c-43df867e90ed",
   "metadata": {},
   "outputs": [],
   "source": []
  },
  {
   "cell_type": "code",
   "execution_count": null,
   "id": "257cf1e1-7c70-40a9-9a4a-bd248b0b8979",
   "metadata": {},
   "outputs": [],
   "source": []
  }
 ],
 "metadata": {
  "kernelspec": {
   "display_name": "Python (hf_env)",
   "language": "python",
   "name": "hf_env"
  },
  "language_info": {
   "codemirror_mode": {
    "name": "ipython",
    "version": 3
   },
   "file_extension": ".py",
   "mimetype": "text/x-python",
   "name": "python",
   "nbconvert_exporter": "python",
   "pygments_lexer": "ipython3",
   "version": "3.10.18"
  }
 },
 "nbformat": 4,
 "nbformat_minor": 5
}
